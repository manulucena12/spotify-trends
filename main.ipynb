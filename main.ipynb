{
 "cells": [
  {
   "cell_type": "markdown",
   "id": "280280fa",
   "metadata": {},
   "source": [
    "# **The Evolution of Music from 2000 to 2023: A Spotify Data Analysis**"
   ]
  },
  {
   "cell_type": "markdown",
   "id": "3175df73",
   "metadata": {},
   "source": [
    "### **This dataset has been retrieved from [Kaggle](https://www.kaggle.com/datasets/amitanshjoshi/spotify-1million-tracks), I wanted to do analyze this dataset because I love listening to music, and I thought that it was a good chance to get hands-on practice in a data analysis project like this. My goal is to see what makes a song be more popular and how the industry has evolved over time.**"
   ]
  },
  {
   "cell_type": "markdown",
   "id": "bfc04d78",
   "metadata": {},
   "source": [
    "## **1. Import the dependencies we'll use**"
   ]
  },
  {
   "cell_type": "code",
   "execution_count": 71,
   "id": "8ebed013",
   "metadata": {},
   "outputs": [
    {
     "data": {
      "text/html": [
       "<div>\n",
       "<style scoped>\n",
       "    .dataframe tbody tr th:only-of-type {\n",
       "        vertical-align: middle;\n",
       "    }\n",
       "\n",
       "    .dataframe tbody tr th {\n",
       "        vertical-align: top;\n",
       "    }\n",
       "\n",
       "    .dataframe thead th {\n",
       "        text-align: right;\n",
       "    }\n",
       "</style>\n",
       "<table border=\"1\" class=\"dataframe\">\n",
       "  <thead>\n",
       "    <tr style=\"text-align: right;\">\n",
       "      <th></th>\n",
       "      <th>artist_name</th>\n",
       "      <th>track_name</th>\n",
       "      <th>track_id</th>\n",
       "      <th>popularity</th>\n",
       "      <th>year</th>\n",
       "      <th>genre</th>\n",
       "      <th>danceability</th>\n",
       "      <th>energy</th>\n",
       "      <th>key</th>\n",
       "      <th>loudness</th>\n",
       "      <th>mode</th>\n",
       "      <th>speechiness</th>\n",
       "      <th>acousticness</th>\n",
       "      <th>instrumentalness</th>\n",
       "      <th>liveness</th>\n",
       "      <th>valence</th>\n",
       "      <th>tempo</th>\n",
       "      <th>duration_ms</th>\n",
       "      <th>time_signature</th>\n",
       "    </tr>\n",
       "  </thead>\n",
       "  <tbody>\n",
       "    <tr>\n",
       "      <th>0</th>\n",
       "      <td>Jason Mraz</td>\n",
       "      <td>I Won't Give Up</td>\n",
       "      <td>53QF56cjZA9RTuuMZDrSA6</td>\n",
       "      <td>68</td>\n",
       "      <td>2012</td>\n",
       "      <td>acoustic</td>\n",
       "      <td>0.483</td>\n",
       "      <td>0.303</td>\n",
       "      <td>4</td>\n",
       "      <td>-10.058</td>\n",
       "      <td>1</td>\n",
       "      <td>0.0429</td>\n",
       "      <td>0.6940</td>\n",
       "      <td>0.000000</td>\n",
       "      <td>0.1150</td>\n",
       "      <td>0.139</td>\n",
       "      <td>133.406</td>\n",
       "      <td>240166</td>\n",
       "      <td>3</td>\n",
       "    </tr>\n",
       "    <tr>\n",
       "      <th>1</th>\n",
       "      <td>Jason Mraz</td>\n",
       "      <td>93 Million Miles</td>\n",
       "      <td>1s8tP3jP4GZcyHDsjvw218</td>\n",
       "      <td>50</td>\n",
       "      <td>2012</td>\n",
       "      <td>acoustic</td>\n",
       "      <td>0.572</td>\n",
       "      <td>0.454</td>\n",
       "      <td>3</td>\n",
       "      <td>-10.286</td>\n",
       "      <td>1</td>\n",
       "      <td>0.0258</td>\n",
       "      <td>0.4770</td>\n",
       "      <td>0.000014</td>\n",
       "      <td>0.0974</td>\n",
       "      <td>0.515</td>\n",
       "      <td>140.182</td>\n",
       "      <td>216387</td>\n",
       "      <td>4</td>\n",
       "    </tr>\n",
       "    <tr>\n",
       "      <th>2</th>\n",
       "      <td>Joshua Hyslop</td>\n",
       "      <td>Do Not Let Me Go</td>\n",
       "      <td>7BRCa8MPiyuvr2VU3O9W0F</td>\n",
       "      <td>57</td>\n",
       "      <td>2012</td>\n",
       "      <td>acoustic</td>\n",
       "      <td>0.409</td>\n",
       "      <td>0.234</td>\n",
       "      <td>3</td>\n",
       "      <td>-13.711</td>\n",
       "      <td>1</td>\n",
       "      <td>0.0323</td>\n",
       "      <td>0.3380</td>\n",
       "      <td>0.000050</td>\n",
       "      <td>0.0895</td>\n",
       "      <td>0.145</td>\n",
       "      <td>139.832</td>\n",
       "      <td>158960</td>\n",
       "      <td>4</td>\n",
       "    </tr>\n",
       "    <tr>\n",
       "      <th>3</th>\n",
       "      <td>Boyce Avenue</td>\n",
       "      <td>Fast Car</td>\n",
       "      <td>63wsZUhUZLlh1OsyrZq7sz</td>\n",
       "      <td>58</td>\n",
       "      <td>2012</td>\n",
       "      <td>acoustic</td>\n",
       "      <td>0.392</td>\n",
       "      <td>0.251</td>\n",
       "      <td>10</td>\n",
       "      <td>-9.845</td>\n",
       "      <td>1</td>\n",
       "      <td>0.0363</td>\n",
       "      <td>0.8070</td>\n",
       "      <td>0.000000</td>\n",
       "      <td>0.0797</td>\n",
       "      <td>0.508</td>\n",
       "      <td>204.961</td>\n",
       "      <td>304293</td>\n",
       "      <td>4</td>\n",
       "    </tr>\n",
       "    <tr>\n",
       "      <th>4</th>\n",
       "      <td>Andrew Belle</td>\n",
       "      <td>Sky's Still Blue</td>\n",
       "      <td>6nXIYClvJAfi6ujLiKqEq8</td>\n",
       "      <td>54</td>\n",
       "      <td>2012</td>\n",
       "      <td>acoustic</td>\n",
       "      <td>0.430</td>\n",
       "      <td>0.791</td>\n",
       "      <td>6</td>\n",
       "      <td>-5.419</td>\n",
       "      <td>0</td>\n",
       "      <td>0.0302</td>\n",
       "      <td>0.0726</td>\n",
       "      <td>0.019300</td>\n",
       "      <td>0.1100</td>\n",
       "      <td>0.217</td>\n",
       "      <td>171.864</td>\n",
       "      <td>244320</td>\n",
       "      <td>4</td>\n",
       "    </tr>\n",
       "  </tbody>\n",
       "</table>\n",
       "</div>"
      ],
      "text/plain": [
       "     artist_name        track_name                track_id  popularity  year  \\\n",
       "0     Jason Mraz   I Won't Give Up  53QF56cjZA9RTuuMZDrSA6          68  2012   \n",
       "1     Jason Mraz  93 Million Miles  1s8tP3jP4GZcyHDsjvw218          50  2012   \n",
       "2  Joshua Hyslop  Do Not Let Me Go  7BRCa8MPiyuvr2VU3O9W0F          57  2012   \n",
       "3   Boyce Avenue          Fast Car  63wsZUhUZLlh1OsyrZq7sz          58  2012   \n",
       "4   Andrew Belle  Sky's Still Blue  6nXIYClvJAfi6ujLiKqEq8          54  2012   \n",
       "\n",
       "      genre  danceability  energy  key  loudness  mode  speechiness  \\\n",
       "0  acoustic         0.483   0.303    4   -10.058     1       0.0429   \n",
       "1  acoustic         0.572   0.454    3   -10.286     1       0.0258   \n",
       "2  acoustic         0.409   0.234    3   -13.711     1       0.0323   \n",
       "3  acoustic         0.392   0.251   10    -9.845     1       0.0363   \n",
       "4  acoustic         0.430   0.791    6    -5.419     0       0.0302   \n",
       "\n",
       "   acousticness  instrumentalness  liveness  valence    tempo  duration_ms  \\\n",
       "0        0.6940          0.000000    0.1150    0.139  133.406       240166   \n",
       "1        0.4770          0.000014    0.0974    0.515  140.182       216387   \n",
       "2        0.3380          0.000050    0.0895    0.145  139.832       158960   \n",
       "3        0.8070          0.000000    0.0797    0.508  204.961       304293   \n",
       "4        0.0726          0.019300    0.1100    0.217  171.864       244320   \n",
       "\n",
       "   time_signature  \n",
       "0               3  \n",
       "1               4  \n",
       "2               4  \n",
       "3               4  \n",
       "4               4  "
      ]
     },
     "execution_count": 71,
     "metadata": {},
     "output_type": "execute_result"
    }
   ],
   "source": [
    "import pandas as pd;\n",
    "import numpy as np;\n",
    "import seaborn as sns;\n",
    "import matplotlib.pyplot as plt;\n",
    "import plotly.express as px\n",
    "from sklearn.metrics import r2_score;\n",
    "from sklearn.linear_model import LinearRegression\n",
    "\n",
    "df = pd.read_csv(\"spotify_data.csv\", index_col=0)\n",
    "\n",
    "df.head()"
   ]
  },
  {
   "cell_type": "markdown",
   "id": "81463af8",
   "metadata": {},
   "source": [
    "## **2. First data cleaning and general overview**"
   ]
  },
  {
   "cell_type": "markdown",
   "id": "a89c7a2b",
   "metadata": {},
   "source": [
    "### **2.1. Check NaN values**"
   ]
  },
  {
   "cell_type": "code",
   "execution_count": 2,
   "id": "d95acb0f",
   "metadata": {},
   "outputs": [
    {
     "data": {
      "text/plain": [
       "artist_name         15\n",
       "track_name           1\n",
       "track_id             0\n",
       "popularity           0\n",
       "year                 0\n",
       "genre                0\n",
       "danceability         0\n",
       "energy               0\n",
       "key                  0\n",
       "loudness             0\n",
       "mode                 0\n",
       "speechiness          0\n",
       "acousticness         0\n",
       "instrumentalness     0\n",
       "liveness             0\n",
       "valence              0\n",
       "tempo                0\n",
       "duration_ms          0\n",
       "time_signature       0\n",
       "dtype: int64"
      ]
     },
     "execution_count": 2,
     "metadata": {},
     "output_type": "execute_result"
    }
   ],
   "source": [
    "df.isna().sum()"
   ]
  },
  {
   "cell_type": "markdown",
   "id": "763aea57",
   "metadata": {},
   "source": [
    "### **2.2. Drop NaN values**"
   ]
  },
  {
   "cell_type": "code",
   "execution_count": 3,
   "id": "40d9d2a2",
   "metadata": {},
   "outputs": [],
   "source": [
    "df = df.dropna(axis=0)\n"
   ]
  },
  {
   "cell_type": "markdown",
   "id": "9381ecbd",
   "metadata": {},
   "source": [
    "### **2.3. Check duplicated values**"
   ]
  },
  {
   "cell_type": "code",
   "execution_count": 26,
   "id": "79987a26",
   "metadata": {},
   "outputs": [
    {
     "data": {
      "text/plain": [
       "0"
      ]
     },
     "execution_count": 26,
     "metadata": {},
     "output_type": "execute_result"
    }
   ],
   "source": [
    "df.duplicated().sum()"
   ]
  },
  {
   "cell_type": "markdown",
   "id": "29a64078",
   "metadata": {},
   "source": [
    "### **2.4. General overview**"
   ]
  },
  {
   "cell_type": "code",
   "execution_count": 32,
   "id": "d0ceb962",
   "metadata": {},
   "outputs": [
    {
     "data": {
      "text/plain": [
       "(1159764, 19)"
      ]
     },
     "execution_count": 32,
     "metadata": {},
     "output_type": "execute_result"
    }
   ],
   "source": [
    "df.shape"
   ]
  },
  {
   "cell_type": "code",
   "execution_count": 30,
   "id": "90493382",
   "metadata": {},
   "outputs": [
    {
     "data": {
      "text/html": [
       "<div>\n",
       "<style scoped>\n",
       "    .dataframe tbody tr th:only-of-type {\n",
       "        vertical-align: middle;\n",
       "    }\n",
       "\n",
       "    .dataframe tbody tr th {\n",
       "        vertical-align: top;\n",
       "    }\n",
       "\n",
       "    .dataframe thead th {\n",
       "        text-align: right;\n",
       "    }\n",
       "</style>\n",
       "<table border=\"1\" class=\"dataframe\">\n",
       "  <thead>\n",
       "    <tr style=\"text-align: right;\">\n",
       "      <th></th>\n",
       "      <th>popularity</th>\n",
       "      <th>year</th>\n",
       "      <th>danceability</th>\n",
       "      <th>energy</th>\n",
       "      <th>key</th>\n",
       "      <th>loudness</th>\n",
       "      <th>mode</th>\n",
       "      <th>speechiness</th>\n",
       "      <th>acousticness</th>\n",
       "      <th>instrumentalness</th>\n",
       "      <th>liveness</th>\n",
       "      <th>valence</th>\n",
       "      <th>tempo</th>\n",
       "      <th>duration_ms</th>\n",
       "      <th>time_signature</th>\n",
       "    </tr>\n",
       "  </thead>\n",
       "  <tbody>\n",
       "    <tr>\n",
       "      <th>count</th>\n",
       "      <td>1.159748e+06</td>\n",
       "      <td>1.159748e+06</td>\n",
       "      <td>1.159748e+06</td>\n",
       "      <td>1.159748e+06</td>\n",
       "      <td>1.159748e+06</td>\n",
       "      <td>1.159748e+06</td>\n",
       "      <td>1.159748e+06</td>\n",
       "      <td>1.159748e+06</td>\n",
       "      <td>1.159748e+06</td>\n",
       "      <td>1.159748e+06</td>\n",
       "      <td>1.159748e+06</td>\n",
       "      <td>1.159748e+06</td>\n",
       "      <td>1.159748e+06</td>\n",
       "      <td>1.159748e+06</td>\n",
       "      <td>1.159748e+06</td>\n",
       "    </tr>\n",
       "    <tr>\n",
       "      <th>mean</th>\n",
       "      <td>1.838309e+01</td>\n",
       "      <td>2.011955e+03</td>\n",
       "      <td>5.374425e-01</td>\n",
       "      <td>6.396737e-01</td>\n",
       "      <td>5.287763e+00</td>\n",
       "      <td>-8.981292e+00</td>\n",
       "      <td>6.346560e-01</td>\n",
       "      <td>9.281520e-02</td>\n",
       "      <td>3.215380e-01</td>\n",
       "      <td>2.523423e-01</td>\n",
       "      <td>2.230197e-01</td>\n",
       "      <td>4.555689e-01</td>\n",
       "      <td>1.213775e+02</td>\n",
       "      <td>2.495587e+05</td>\n",
       "      <td>3.885880e+00</td>\n",
       "    </tr>\n",
       "    <tr>\n",
       "      <th>std</th>\n",
       "      <td>1.588563e+01</td>\n",
       "      <td>6.803908e+00</td>\n",
       "      <td>1.844753e-01</td>\n",
       "      <td>2.704993e-01</td>\n",
       "      <td>3.555204e+00</td>\n",
       "      <td>5.682203e+00</td>\n",
       "      <td>4.815267e-01</td>\n",
       "      <td>1.268416e-01</td>\n",
       "      <td>3.549873e-01</td>\n",
       "      <td>3.650701e-01</td>\n",
       "      <td>2.010712e-01</td>\n",
       "      <td>2.685169e-01</td>\n",
       "      <td>2.977964e+01</td>\n",
       "      <td>1.494243e+05</td>\n",
       "      <td>4.676983e-01</td>\n",
       "    </tr>\n",
       "    <tr>\n",
       "      <th>min</th>\n",
       "      <td>0.000000e+00</td>\n",
       "      <td>2.000000e+03</td>\n",
       "      <td>0.000000e+00</td>\n",
       "      <td>0.000000e+00</td>\n",
       "      <td>0.000000e+00</td>\n",
       "      <td>-5.810000e+01</td>\n",
       "      <td>0.000000e+00</td>\n",
       "      <td>0.000000e+00</td>\n",
       "      <td>0.000000e+00</td>\n",
       "      <td>0.000000e+00</td>\n",
       "      <td>0.000000e+00</td>\n",
       "      <td>0.000000e+00</td>\n",
       "      <td>0.000000e+00</td>\n",
       "      <td>2.073000e+03</td>\n",
       "      <td>0.000000e+00</td>\n",
       "    </tr>\n",
       "    <tr>\n",
       "      <th>25%</th>\n",
       "      <td>5.000000e+00</td>\n",
       "      <td>2.006000e+03</td>\n",
       "      <td>4.130000e-01</td>\n",
       "      <td>4.540000e-01</td>\n",
       "      <td>2.000000e+00</td>\n",
       "      <td>-1.082900e+01</td>\n",
       "      <td>0.000000e+00</td>\n",
       "      <td>3.710000e-02</td>\n",
       "      <td>6.400000e-03</td>\n",
       "      <td>1.050000e-06</td>\n",
       "      <td>9.790000e-02</td>\n",
       "      <td>2.260000e-01</td>\n",
       "      <td>9.879800e+01</td>\n",
       "      <td>1.810910e+05</td>\n",
       "      <td>4.000000e+00</td>\n",
       "    </tr>\n",
       "    <tr>\n",
       "      <th>50%</th>\n",
       "      <td>1.500000e+01</td>\n",
       "      <td>2.012000e+03</td>\n",
       "      <td>5.500000e-01</td>\n",
       "      <td>6.940000e-01</td>\n",
       "      <td>5.000000e+00</td>\n",
       "      <td>-7.450000e+00</td>\n",
       "      <td>1.000000e+00</td>\n",
       "      <td>5.070000e-02</td>\n",
       "      <td>1.470000e-01</td>\n",
       "      <td>1.760000e-03</td>\n",
       "      <td>1.340000e-01</td>\n",
       "      <td>4.380000e-01</td>\n",
       "      <td>1.219310e+02</td>\n",
       "      <td>2.257405e+05</td>\n",
       "      <td>4.000000e+00</td>\n",
       "    </tr>\n",
       "    <tr>\n",
       "      <th>75%</th>\n",
       "      <td>2.900000e+01</td>\n",
       "      <td>2.018000e+03</td>\n",
       "      <td>6.770000e-01</td>\n",
       "      <td>8.730000e-01</td>\n",
       "      <td>8.000000e+00</td>\n",
       "      <td>-5.276000e+00</td>\n",
       "      <td>1.000000e+00</td>\n",
       "      <td>8.900000e-02</td>\n",
       "      <td>6.400000e-01</td>\n",
       "      <td>6.140000e-01</td>\n",
       "      <td>2.920000e-01</td>\n",
       "      <td>6.740000e-01</td>\n",
       "      <td>1.399030e+02</td>\n",
       "      <td>2.869070e+05</td>\n",
       "      <td>4.000000e+00</td>\n",
       "    </tr>\n",
       "    <tr>\n",
       "      <th>max</th>\n",
       "      <td>1.000000e+02</td>\n",
       "      <td>2.023000e+03</td>\n",
       "      <td>9.930000e-01</td>\n",
       "      <td>1.000000e+00</td>\n",
       "      <td>1.100000e+01</td>\n",
       "      <td>6.172000e+00</td>\n",
       "      <td>1.000000e+00</td>\n",
       "      <td>9.710000e-01</td>\n",
       "      <td>9.960000e-01</td>\n",
       "      <td>1.000000e+00</td>\n",
       "      <td>1.000000e+00</td>\n",
       "      <td>1.000000e+00</td>\n",
       "      <td>2.499930e+02</td>\n",
       "      <td>6.000495e+06</td>\n",
       "      <td>5.000000e+00</td>\n",
       "    </tr>\n",
       "  </tbody>\n",
       "</table>\n",
       "</div>"
      ],
      "text/plain": [
       "         popularity          year  danceability        energy           key  \\\n",
       "count  1.159748e+06  1.159748e+06  1.159748e+06  1.159748e+06  1.159748e+06   \n",
       "mean   1.838309e+01  2.011955e+03  5.374425e-01  6.396737e-01  5.287763e+00   \n",
       "std    1.588563e+01  6.803908e+00  1.844753e-01  2.704993e-01  3.555204e+00   \n",
       "min    0.000000e+00  2.000000e+03  0.000000e+00  0.000000e+00  0.000000e+00   \n",
       "25%    5.000000e+00  2.006000e+03  4.130000e-01  4.540000e-01  2.000000e+00   \n",
       "50%    1.500000e+01  2.012000e+03  5.500000e-01  6.940000e-01  5.000000e+00   \n",
       "75%    2.900000e+01  2.018000e+03  6.770000e-01  8.730000e-01  8.000000e+00   \n",
       "max    1.000000e+02  2.023000e+03  9.930000e-01  1.000000e+00  1.100000e+01   \n",
       "\n",
       "           loudness          mode   speechiness  acousticness  \\\n",
       "count  1.159748e+06  1.159748e+06  1.159748e+06  1.159748e+06   \n",
       "mean  -8.981292e+00  6.346560e-01  9.281520e-02  3.215380e-01   \n",
       "std    5.682203e+00  4.815267e-01  1.268416e-01  3.549873e-01   \n",
       "min   -5.810000e+01  0.000000e+00  0.000000e+00  0.000000e+00   \n",
       "25%   -1.082900e+01  0.000000e+00  3.710000e-02  6.400000e-03   \n",
       "50%   -7.450000e+00  1.000000e+00  5.070000e-02  1.470000e-01   \n",
       "75%   -5.276000e+00  1.000000e+00  8.900000e-02  6.400000e-01   \n",
       "max    6.172000e+00  1.000000e+00  9.710000e-01  9.960000e-01   \n",
       "\n",
       "       instrumentalness      liveness       valence         tempo  \\\n",
       "count      1.159748e+06  1.159748e+06  1.159748e+06  1.159748e+06   \n",
       "mean       2.523423e-01  2.230197e-01  4.555689e-01  1.213775e+02   \n",
       "std        3.650701e-01  2.010712e-01  2.685169e-01  2.977964e+01   \n",
       "min        0.000000e+00  0.000000e+00  0.000000e+00  0.000000e+00   \n",
       "25%        1.050000e-06  9.790000e-02  2.260000e-01  9.879800e+01   \n",
       "50%        1.760000e-03  1.340000e-01  4.380000e-01  1.219310e+02   \n",
       "75%        6.140000e-01  2.920000e-01  6.740000e-01  1.399030e+02   \n",
       "max        1.000000e+00  1.000000e+00  1.000000e+00  2.499930e+02   \n",
       "\n",
       "        duration_ms  time_signature  \n",
       "count  1.159748e+06    1.159748e+06  \n",
       "mean   2.495587e+05    3.885880e+00  \n",
       "std    1.494243e+05    4.676983e-01  \n",
       "min    2.073000e+03    0.000000e+00  \n",
       "25%    1.810910e+05    4.000000e+00  \n",
       "50%    2.257405e+05    4.000000e+00  \n",
       "75%    2.869070e+05    4.000000e+00  \n",
       "max    6.000495e+06    5.000000e+00  "
      ]
     },
     "execution_count": 30,
     "metadata": {},
     "output_type": "execute_result"
    }
   ],
   "source": [
    "df.describe()"
   ]
  },
  {
   "cell_type": "code",
   "execution_count": 33,
   "id": "9e8e3d96",
   "metadata": {},
   "outputs": [
    {
     "name": "stdout",
     "output_type": "stream",
     "text": [
      "<class 'pandas.core.frame.DataFrame'>\n",
      "Index: 1159764 entries, 0 to 1473395\n",
      "Data columns (total 19 columns):\n",
      " #   Column            Non-Null Count    Dtype  \n",
      "---  ------            --------------    -----  \n",
      " 0   artist_name       1159749 non-null  object \n",
      " 1   track_name        1159763 non-null  object \n",
      " 2   track_id          1159764 non-null  object \n",
      " 3   popularity        1159764 non-null  int64  \n",
      " 4   year              1159764 non-null  int64  \n",
      " 5   genre             1159764 non-null  object \n",
      " 6   danceability      1159764 non-null  float64\n",
      " 7   energy            1159764 non-null  float64\n",
      " 8   key               1159764 non-null  int64  \n",
      " 9   loudness          1159764 non-null  float64\n",
      " 10  mode              1159764 non-null  int64  \n",
      " 11  speechiness       1159764 non-null  float64\n",
      " 12  acousticness      1159764 non-null  float64\n",
      " 13  instrumentalness  1159764 non-null  float64\n",
      " 14  liveness          1159764 non-null  float64\n",
      " 15  valence           1159764 non-null  float64\n",
      " 16  tempo             1159764 non-null  float64\n",
      " 17  duration_ms       1159764 non-null  int64  \n",
      " 18  time_signature    1159764 non-null  int64  \n",
      "dtypes: float64(9), int64(6), object(4)\n",
      "memory usage: 177.0+ MB\n"
     ]
    }
   ],
   "source": [
    "df.info()"
   ]
  },
  {
   "cell_type": "markdown",
   "id": "70f279b3",
   "metadata": {},
   "source": [
    "## **3. Study how the music has evolved over time**"
   ]
  },
  {
   "cell_type": "markdown",
   "id": "57ec52e9",
   "metadata": {},
   "source": [
    "### **3.1. First of all, we need to get the parameters we want to study**"
   ]
  },
  {
   "cell_type": "code",
   "execution_count": 4,
   "id": "f336c79a",
   "metadata": {},
   "outputs": [
    {
     "data": {
      "text/html": [
       "<div>\n",
       "<style scoped>\n",
       "    .dataframe tbody tr th:only-of-type {\n",
       "        vertical-align: middle;\n",
       "    }\n",
       "\n",
       "    .dataframe tbody tr th {\n",
       "        vertical-align: top;\n",
       "    }\n",
       "\n",
       "    .dataframe thead th {\n",
       "        text-align: right;\n",
       "    }\n",
       "</style>\n",
       "<table border=\"1\" class=\"dataframe\">\n",
       "  <thead>\n",
       "    <tr style=\"text-align: right;\">\n",
       "      <th></th>\n",
       "      <th>artist_name</th>\n",
       "      <th>track_name</th>\n",
       "      <th>track_id</th>\n",
       "      <th>popularity</th>\n",
       "      <th>year</th>\n",
       "      <th>genre</th>\n",
       "      <th>danceability</th>\n",
       "      <th>energy</th>\n",
       "      <th>key</th>\n",
       "      <th>loudness</th>\n",
       "      <th>mode</th>\n",
       "      <th>speechiness</th>\n",
       "      <th>acousticness</th>\n",
       "      <th>instrumentalness</th>\n",
       "      <th>liveness</th>\n",
       "      <th>valence</th>\n",
       "      <th>tempo</th>\n",
       "      <th>time_signature</th>\n",
       "      <th>duration</th>\n",
       "    </tr>\n",
       "  </thead>\n",
       "  <tbody>\n",
       "    <tr>\n",
       "      <th>0</th>\n",
       "      <td>Jason Mraz</td>\n",
       "      <td>I Won't Give Up</td>\n",
       "      <td>53QF56cjZA9RTuuMZDrSA6</td>\n",
       "      <td>68</td>\n",
       "      <td>2012</td>\n",
       "      <td>acoustic</td>\n",
       "      <td>0.483</td>\n",
       "      <td>0.303</td>\n",
       "      <td>4</td>\n",
       "      <td>-10.058</td>\n",
       "      <td>1</td>\n",
       "      <td>0.0429</td>\n",
       "      <td>0.6940</td>\n",
       "      <td>0.000000</td>\n",
       "      <td>0.1150</td>\n",
       "      <td>0.1390</td>\n",
       "      <td>133.406</td>\n",
       "      <td>3</td>\n",
       "      <td>4.002767</td>\n",
       "    </tr>\n",
       "    <tr>\n",
       "      <th>1</th>\n",
       "      <td>Jason Mraz</td>\n",
       "      <td>93 Million Miles</td>\n",
       "      <td>1s8tP3jP4GZcyHDsjvw218</td>\n",
       "      <td>50</td>\n",
       "      <td>2012</td>\n",
       "      <td>acoustic</td>\n",
       "      <td>0.572</td>\n",
       "      <td>0.454</td>\n",
       "      <td>3</td>\n",
       "      <td>-10.286</td>\n",
       "      <td>1</td>\n",
       "      <td>0.0258</td>\n",
       "      <td>0.4770</td>\n",
       "      <td>0.000014</td>\n",
       "      <td>0.0974</td>\n",
       "      <td>0.5150</td>\n",
       "      <td>140.182</td>\n",
       "      <td>4</td>\n",
       "      <td>3.606450</td>\n",
       "    </tr>\n",
       "    <tr>\n",
       "      <th>2</th>\n",
       "      <td>Joshua Hyslop</td>\n",
       "      <td>Do Not Let Me Go</td>\n",
       "      <td>7BRCa8MPiyuvr2VU3O9W0F</td>\n",
       "      <td>57</td>\n",
       "      <td>2012</td>\n",
       "      <td>acoustic</td>\n",
       "      <td>0.409</td>\n",
       "      <td>0.234</td>\n",
       "      <td>3</td>\n",
       "      <td>-13.711</td>\n",
       "      <td>1</td>\n",
       "      <td>0.0323</td>\n",
       "      <td>0.3380</td>\n",
       "      <td>0.000050</td>\n",
       "      <td>0.0895</td>\n",
       "      <td>0.1450</td>\n",
       "      <td>139.832</td>\n",
       "      <td>4</td>\n",
       "      <td>2.649333</td>\n",
       "    </tr>\n",
       "    <tr>\n",
       "      <th>3</th>\n",
       "      <td>Boyce Avenue</td>\n",
       "      <td>Fast Car</td>\n",
       "      <td>63wsZUhUZLlh1OsyrZq7sz</td>\n",
       "      <td>58</td>\n",
       "      <td>2012</td>\n",
       "      <td>acoustic</td>\n",
       "      <td>0.392</td>\n",
       "      <td>0.251</td>\n",
       "      <td>10</td>\n",
       "      <td>-9.845</td>\n",
       "      <td>1</td>\n",
       "      <td>0.0363</td>\n",
       "      <td>0.8070</td>\n",
       "      <td>0.000000</td>\n",
       "      <td>0.0797</td>\n",
       "      <td>0.5080</td>\n",
       "      <td>204.961</td>\n",
       "      <td>4</td>\n",
       "      <td>5.071550</td>\n",
       "    </tr>\n",
       "    <tr>\n",
       "      <th>4</th>\n",
       "      <td>Andrew Belle</td>\n",
       "      <td>Sky's Still Blue</td>\n",
       "      <td>6nXIYClvJAfi6ujLiKqEq8</td>\n",
       "      <td>54</td>\n",
       "      <td>2012</td>\n",
       "      <td>acoustic</td>\n",
       "      <td>0.430</td>\n",
       "      <td>0.791</td>\n",
       "      <td>6</td>\n",
       "      <td>-5.419</td>\n",
       "      <td>0</td>\n",
       "      <td>0.0302</td>\n",
       "      <td>0.0726</td>\n",
       "      <td>0.019300</td>\n",
       "      <td>0.1100</td>\n",
       "      <td>0.2170</td>\n",
       "      <td>171.864</td>\n",
       "      <td>4</td>\n",
       "      <td>4.072000</td>\n",
       "    </tr>\n",
       "    <tr>\n",
       "      <th>...</th>\n",
       "      <td>...</td>\n",
       "      <td>...</td>\n",
       "      <td>...</td>\n",
       "      <td>...</td>\n",
       "      <td>...</td>\n",
       "      <td>...</td>\n",
       "      <td>...</td>\n",
       "      <td>...</td>\n",
       "      <td>...</td>\n",
       "      <td>...</td>\n",
       "      <td>...</td>\n",
       "      <td>...</td>\n",
       "      <td>...</td>\n",
       "      <td>...</td>\n",
       "      <td>...</td>\n",
       "      <td>...</td>\n",
       "      <td>...</td>\n",
       "      <td>...</td>\n",
       "      <td>...</td>\n",
       "    </tr>\n",
       "    <tr>\n",
       "      <th>1473391</th>\n",
       "      <td>Nicola Conte</td>\n",
       "      <td>Black Spirits</td>\n",
       "      <td>0m27F0IGHLGAWhqd6ccYst</td>\n",
       "      <td>4</td>\n",
       "      <td>2011</td>\n",
       "      <td>trip-hop</td>\n",
       "      <td>0.373</td>\n",
       "      <td>0.742</td>\n",
       "      <td>10</td>\n",
       "      <td>-6.453</td>\n",
       "      <td>0</td>\n",
       "      <td>0.0736</td>\n",
       "      <td>0.3250</td>\n",
       "      <td>0.000141</td>\n",
       "      <td>0.1590</td>\n",
       "      <td>0.5220</td>\n",
       "      <td>107.951</td>\n",
       "      <td>3</td>\n",
       "      <td>5.733550</td>\n",
       "    </tr>\n",
       "    <tr>\n",
       "      <th>1473392</th>\n",
       "      <td>Nicola Conte</td>\n",
       "      <td>Quiet Dawn</td>\n",
       "      <td>6er9p611eHEcUCU50j7D57</td>\n",
       "      <td>3</td>\n",
       "      <td>2011</td>\n",
       "      <td>trip-hop</td>\n",
       "      <td>0.516</td>\n",
       "      <td>0.675</td>\n",
       "      <td>7</td>\n",
       "      <td>-7.588</td>\n",
       "      <td>0</td>\n",
       "      <td>0.0326</td>\n",
       "      <td>0.7880</td>\n",
       "      <td>0.000129</td>\n",
       "      <td>0.1300</td>\n",
       "      <td>0.2640</td>\n",
       "      <td>119.897</td>\n",
       "      <td>4</td>\n",
       "      <td>4.751117</td>\n",
       "    </tr>\n",
       "    <tr>\n",
       "      <th>1473393</th>\n",
       "      <td>Amon Tobin</td>\n",
       "      <td>Morning Ms Candis</td>\n",
       "      <td>7jsMMqxy1tt0rH5FzYcZTQ</td>\n",
       "      <td>2</td>\n",
       "      <td>2011</td>\n",
       "      <td>trip-hop</td>\n",
       "      <td>0.491</td>\n",
       "      <td>0.440</td>\n",
       "      <td>5</td>\n",
       "      <td>-8.512</td>\n",
       "      <td>1</td>\n",
       "      <td>0.0274</td>\n",
       "      <td>0.4770</td>\n",
       "      <td>0.003130</td>\n",
       "      <td>0.0936</td>\n",
       "      <td>0.0351</td>\n",
       "      <td>100.076</td>\n",
       "      <td>4</td>\n",
       "      <td>3.570883</td>\n",
       "    </tr>\n",
       "    <tr>\n",
       "      <th>1473394</th>\n",
       "      <td>Peace Orchestra</td>\n",
       "      <td>Happy Christmas (War Is Over)</td>\n",
       "      <td>77lA1InUaXztuRk2vOzD1S</td>\n",
       "      <td>0</td>\n",
       "      <td>2011</td>\n",
       "      <td>trip-hop</td>\n",
       "      <td>0.480</td>\n",
       "      <td>0.405</td>\n",
       "      <td>0</td>\n",
       "      <td>-13.343</td>\n",
       "      <td>1</td>\n",
       "      <td>0.0276</td>\n",
       "      <td>0.4310</td>\n",
       "      <td>0.000063</td>\n",
       "      <td>0.1250</td>\n",
       "      <td>0.2020</td>\n",
       "      <td>133.885</td>\n",
       "      <td>3</td>\n",
       "      <td>3.985550</td>\n",
       "    </tr>\n",
       "    <tr>\n",
       "      <th>1473395</th>\n",
       "      <td>Mo' Horizons</td>\n",
       "      <td>Hit the Road Jack (Pé Na Éstrada)</td>\n",
       "      <td>4oMiOwhDZEdBuzAfhzRHbi</td>\n",
       "      <td>3</td>\n",
       "      <td>2011</td>\n",
       "      <td>trip-hop</td>\n",
       "      <td>0.782</td>\n",
       "      <td>0.861</td>\n",
       "      <td>1</td>\n",
       "      <td>-7.292</td>\n",
       "      <td>0</td>\n",
       "      <td>0.1250</td>\n",
       "      <td>0.2200</td>\n",
       "      <td>0.000008</td>\n",
       "      <td>0.0581</td>\n",
       "      <td>0.8570</td>\n",
       "      <td>89.987</td>\n",
       "      <td>4</td>\n",
       "      <td>3.537117</td>\n",
       "    </tr>\n",
       "  </tbody>\n",
       "</table>\n",
       "<p>1159748 rows × 19 columns</p>\n",
       "</div>"
      ],
      "text/plain": [
       "             artist_name                         track_name  \\\n",
       "0             Jason Mraz                    I Won't Give Up   \n",
       "1             Jason Mraz                   93 Million Miles   \n",
       "2          Joshua Hyslop                   Do Not Let Me Go   \n",
       "3           Boyce Avenue                           Fast Car   \n",
       "4           Andrew Belle                   Sky's Still Blue   \n",
       "...                  ...                                ...   \n",
       "1473391     Nicola Conte                      Black Spirits   \n",
       "1473392     Nicola Conte                         Quiet Dawn   \n",
       "1473393       Amon Tobin                  Morning Ms Candis   \n",
       "1473394  Peace Orchestra      Happy Christmas (War Is Over)   \n",
       "1473395     Mo' Horizons  Hit the Road Jack (Pé Na Éstrada)   \n",
       "\n",
       "                       track_id  popularity  year     genre  danceability  \\\n",
       "0        53QF56cjZA9RTuuMZDrSA6          68  2012  acoustic         0.483   \n",
       "1        1s8tP3jP4GZcyHDsjvw218          50  2012  acoustic         0.572   \n",
       "2        7BRCa8MPiyuvr2VU3O9W0F          57  2012  acoustic         0.409   \n",
       "3        63wsZUhUZLlh1OsyrZq7sz          58  2012  acoustic         0.392   \n",
       "4        6nXIYClvJAfi6ujLiKqEq8          54  2012  acoustic         0.430   \n",
       "...                         ...         ...   ...       ...           ...   \n",
       "1473391  0m27F0IGHLGAWhqd6ccYst           4  2011  trip-hop         0.373   \n",
       "1473392  6er9p611eHEcUCU50j7D57           3  2011  trip-hop         0.516   \n",
       "1473393  7jsMMqxy1tt0rH5FzYcZTQ           2  2011  trip-hop         0.491   \n",
       "1473394  77lA1InUaXztuRk2vOzD1S           0  2011  trip-hop         0.480   \n",
       "1473395  4oMiOwhDZEdBuzAfhzRHbi           3  2011  trip-hop         0.782   \n",
       "\n",
       "         energy  key  loudness  mode  speechiness  acousticness  \\\n",
       "0         0.303    4   -10.058     1       0.0429        0.6940   \n",
       "1         0.454    3   -10.286     1       0.0258        0.4770   \n",
       "2         0.234    3   -13.711     1       0.0323        0.3380   \n",
       "3         0.251   10    -9.845     1       0.0363        0.8070   \n",
       "4         0.791    6    -5.419     0       0.0302        0.0726   \n",
       "...         ...  ...       ...   ...          ...           ...   \n",
       "1473391   0.742   10    -6.453     0       0.0736        0.3250   \n",
       "1473392   0.675    7    -7.588     0       0.0326        0.7880   \n",
       "1473393   0.440    5    -8.512     1       0.0274        0.4770   \n",
       "1473394   0.405    0   -13.343     1       0.0276        0.4310   \n",
       "1473395   0.861    1    -7.292     0       0.1250        0.2200   \n",
       "\n",
       "         instrumentalness  liveness  valence    tempo  time_signature  \\\n",
       "0                0.000000    0.1150   0.1390  133.406               3   \n",
       "1                0.000014    0.0974   0.5150  140.182               4   \n",
       "2                0.000050    0.0895   0.1450  139.832               4   \n",
       "3                0.000000    0.0797   0.5080  204.961               4   \n",
       "4                0.019300    0.1100   0.2170  171.864               4   \n",
       "...                   ...       ...      ...      ...             ...   \n",
       "1473391          0.000141    0.1590   0.5220  107.951               3   \n",
       "1473392          0.000129    0.1300   0.2640  119.897               4   \n",
       "1473393          0.003130    0.0936   0.0351  100.076               4   \n",
       "1473394          0.000063    0.1250   0.2020  133.885               3   \n",
       "1473395          0.000008    0.0581   0.8570   89.987               4   \n",
       "\n",
       "         duration  \n",
       "0        4.002767  \n",
       "1        3.606450  \n",
       "2        2.649333  \n",
       "3        5.071550  \n",
       "4        4.072000  \n",
       "...           ...  \n",
       "1473391  5.733550  \n",
       "1473392  4.751117  \n",
       "1473393  3.570883  \n",
       "1473394  3.985550  \n",
       "1473395  3.537117  \n",
       "\n",
       "[1159748 rows x 19 columns]"
      ]
     },
     "execution_count": 4,
     "metadata": {},
     "output_type": "execute_result"
    }
   ],
   "source": [
    "df[\"duration\"] = df[\"duration_ms\"] / 60000\n",
    "\n",
    "df.drop(\"duration_ms\", axis=1, inplace=True)\n",
    "\n",
    "df"
   ]
  },
  {
   "cell_type": "code",
   "execution_count": 5,
   "id": "1d0c8f0f",
   "metadata": {},
   "outputs": [
    {
     "data": {
      "text/html": [
       "<div>\n",
       "<style scoped>\n",
       "    .dataframe tbody tr th:only-of-type {\n",
       "        vertical-align: middle;\n",
       "    }\n",
       "\n",
       "    .dataframe tbody tr th {\n",
       "        vertical-align: top;\n",
       "    }\n",
       "\n",
       "    .dataframe thead th {\n",
       "        text-align: right;\n",
       "    }\n",
       "</style>\n",
       "<table border=\"1\" class=\"dataframe\">\n",
       "  <thead>\n",
       "    <tr style=\"text-align: right;\">\n",
       "      <th></th>\n",
       "      <th>energy</th>\n",
       "      <th>danceability</th>\n",
       "      <th>popularity</th>\n",
       "      <th>liveness</th>\n",
       "      <th>loudness</th>\n",
       "      <th>duration</th>\n",
       "      <th>tempo</th>\n",
       "      <th>valence</th>\n",
       "      <th>speechiness</th>\n",
       "    </tr>\n",
       "    <tr>\n",
       "      <th>year</th>\n",
       "      <th></th>\n",
       "      <th></th>\n",
       "      <th></th>\n",
       "      <th></th>\n",
       "      <th></th>\n",
       "      <th></th>\n",
       "      <th></th>\n",
       "      <th></th>\n",
       "      <th></th>\n",
       "    </tr>\n",
       "  </thead>\n",
       "  <tbody>\n",
       "    <tr>\n",
       "      <th>2000</th>\n",
       "      <td>0.604446</td>\n",
       "      <td>0.528590</td>\n",
       "      <td>10.736181</td>\n",
       "      <td>0.219137</td>\n",
       "      <td>-10.148483</td>\n",
       "      <td>4.331459</td>\n",
       "      <td>119.853731</td>\n",
       "      <td>0.507284</td>\n",
       "      <td>0.084210</td>\n",
       "    </tr>\n",
       "    <tr>\n",
       "      <th>2001</th>\n",
       "      <td>0.600322</td>\n",
       "      <td>0.524793</td>\n",
       "      <td>11.253359</td>\n",
       "      <td>0.219772</td>\n",
       "      <td>-10.097640</td>\n",
       "      <td>4.365222</td>\n",
       "      <td>119.115111</td>\n",
       "      <td>0.488250</td>\n",
       "      <td>0.085461</td>\n",
       "    </tr>\n",
       "    <tr>\n",
       "      <th>2002</th>\n",
       "      <td>0.622776</td>\n",
       "      <td>0.531639</td>\n",
       "      <td>11.679041</td>\n",
       "      <td>0.224506</td>\n",
       "      <td>-9.587969</td>\n",
       "      <td>4.388925</td>\n",
       "      <td>119.802349</td>\n",
       "      <td>0.498285</td>\n",
       "      <td>0.085943</td>\n",
       "    </tr>\n",
       "    <tr>\n",
       "      <th>2003</th>\n",
       "      <td>0.627254</td>\n",
       "      <td>0.526321</td>\n",
       "      <td>12.435730</td>\n",
       "      <td>0.224276</td>\n",
       "      <td>-9.375994</td>\n",
       "      <td>4.316647</td>\n",
       "      <td>120.105939</td>\n",
       "      <td>0.491708</td>\n",
       "      <td>0.087809</td>\n",
       "    </tr>\n",
       "    <tr>\n",
       "      <th>2004</th>\n",
       "      <td>0.637659</td>\n",
       "      <td>0.530033</td>\n",
       "      <td>12.298732</td>\n",
       "      <td>0.228731</td>\n",
       "      <td>-9.109423</td>\n",
       "      <td>4.306355</td>\n",
       "      <td>120.454719</td>\n",
       "      <td>0.491882</td>\n",
       "      <td>0.087039</td>\n",
       "    </tr>\n",
       "    <tr>\n",
       "      <th>2005</th>\n",
       "      <td>0.631733</td>\n",
       "      <td>0.525542</td>\n",
       "      <td>13.425044</td>\n",
       "      <td>0.228458</td>\n",
       "      <td>-9.267949</td>\n",
       "      <td>4.361084</td>\n",
       "      <td>120.742589</td>\n",
       "      <td>0.487344</td>\n",
       "      <td>0.088181</td>\n",
       "    </tr>\n",
       "    <tr>\n",
       "      <th>2006</th>\n",
       "      <td>0.634384</td>\n",
       "      <td>0.533050</td>\n",
       "      <td>13.137903</td>\n",
       "      <td>0.224144</td>\n",
       "      <td>-9.139491</td>\n",
       "      <td>4.386501</td>\n",
       "      <td>120.946902</td>\n",
       "      <td>0.486790</td>\n",
       "      <td>0.089972</td>\n",
       "    </tr>\n",
       "    <tr>\n",
       "      <th>2007</th>\n",
       "      <td>0.644446</td>\n",
       "      <td>0.533309</td>\n",
       "      <td>13.471446</td>\n",
       "      <td>0.228937</td>\n",
       "      <td>-9.028157</td>\n",
       "      <td>4.415313</td>\n",
       "      <td>121.062447</td>\n",
       "      <td>0.478078</td>\n",
       "      <td>0.092813</td>\n",
       "    </tr>\n",
       "    <tr>\n",
       "      <th>2008</th>\n",
       "      <td>0.651215</td>\n",
       "      <td>0.534577</td>\n",
       "      <td>13.462894</td>\n",
       "      <td>0.226360</td>\n",
       "      <td>-8.763337</td>\n",
       "      <td>4.398722</td>\n",
       "      <td>122.401332</td>\n",
       "      <td>0.476483</td>\n",
       "      <td>0.090511</td>\n",
       "    </tr>\n",
       "    <tr>\n",
       "      <th>2009</th>\n",
       "      <td>0.648119</td>\n",
       "      <td>0.535684</td>\n",
       "      <td>14.404596</td>\n",
       "      <td>0.229907</td>\n",
       "      <td>-8.807054</td>\n",
       "      <td>4.427241</td>\n",
       "      <td>122.052401</td>\n",
       "      <td>0.469708</td>\n",
       "      <td>0.092920</td>\n",
       "    </tr>\n",
       "    <tr>\n",
       "      <th>2010</th>\n",
       "      <td>0.654701</td>\n",
       "      <td>0.531513</td>\n",
       "      <td>14.856000</td>\n",
       "      <td>0.226106</td>\n",
       "      <td>-8.778307</td>\n",
       "      <td>4.450045</td>\n",
       "      <td>122.236846</td>\n",
       "      <td>0.458671</td>\n",
       "      <td>0.093066</td>\n",
       "    </tr>\n",
       "    <tr>\n",
       "      <th>2011</th>\n",
       "      <td>0.658914</td>\n",
       "      <td>0.537499</td>\n",
       "      <td>15.884894</td>\n",
       "      <td>0.230377</td>\n",
       "      <td>-8.628183</td>\n",
       "      <td>4.304406</td>\n",
       "      <td>122.226923</td>\n",
       "      <td>0.466107</td>\n",
       "      <td>0.095752</td>\n",
       "    </tr>\n",
       "    <tr>\n",
       "      <th>2012</th>\n",
       "      <td>0.655837</td>\n",
       "      <td>0.531656</td>\n",
       "      <td>16.359855</td>\n",
       "      <td>0.229579</td>\n",
       "      <td>-8.645246</td>\n",
       "      <td>4.300409</td>\n",
       "      <td>122.061554</td>\n",
       "      <td>0.452785</td>\n",
       "      <td>0.092253</td>\n",
       "    </tr>\n",
       "    <tr>\n",
       "      <th>2013</th>\n",
       "      <td>0.651601</td>\n",
       "      <td>0.532944</td>\n",
       "      <td>17.511839</td>\n",
       "      <td>0.227853</td>\n",
       "      <td>-8.613594</td>\n",
       "      <td>4.281667</td>\n",
       "      <td>121.851927</td>\n",
       "      <td>0.450393</td>\n",
       "      <td>0.091530</td>\n",
       "    </tr>\n",
       "    <tr>\n",
       "      <th>2014</th>\n",
       "      <td>0.653123</td>\n",
       "      <td>0.534597</td>\n",
       "      <td>18.807687</td>\n",
       "      <td>0.226524</td>\n",
       "      <td>-8.511199</td>\n",
       "      <td>4.194060</td>\n",
       "      <td>121.813514</td>\n",
       "      <td>0.445062</td>\n",
       "      <td>0.093887</td>\n",
       "    </tr>\n",
       "    <tr>\n",
       "      <th>2015</th>\n",
       "      <td>0.646854</td>\n",
       "      <td>0.532678</td>\n",
       "      <td>20.115139</td>\n",
       "      <td>0.226800</td>\n",
       "      <td>-8.640562</td>\n",
       "      <td>4.168971</td>\n",
       "      <td>121.725337</td>\n",
       "      <td>0.431561</td>\n",
       "      <td>0.092367</td>\n",
       "    </tr>\n",
       "    <tr>\n",
       "      <th>2016</th>\n",
       "      <td>0.655247</td>\n",
       "      <td>0.541496</td>\n",
       "      <td>22.319519</td>\n",
       "      <td>0.216137</td>\n",
       "      <td>-8.503049</td>\n",
       "      <td>4.126333</td>\n",
       "      <td>122.057371</td>\n",
       "      <td>0.410110</td>\n",
       "      <td>0.101879</td>\n",
       "    </tr>\n",
       "    <tr>\n",
       "      <th>2017</th>\n",
       "      <td>0.641421</td>\n",
       "      <td>0.545341</td>\n",
       "      <td>23.095665</td>\n",
       "      <td>0.222467</td>\n",
       "      <td>-8.688531</td>\n",
       "      <td>3.984388</td>\n",
       "      <td>121.319593</td>\n",
       "      <td>0.429488</td>\n",
       "      <td>0.096325</td>\n",
       "    </tr>\n",
       "    <tr>\n",
       "      <th>2018</th>\n",
       "      <td>0.639793</td>\n",
       "      <td>0.548891</td>\n",
       "      <td>24.161761</td>\n",
       "      <td>0.217462</td>\n",
       "      <td>-8.752343</td>\n",
       "      <td>3.927671</td>\n",
       "      <td>121.317311</td>\n",
       "      <td>0.427085</td>\n",
       "      <td>0.097987</td>\n",
       "    </tr>\n",
       "    <tr>\n",
       "      <th>2019</th>\n",
       "      <td>0.647856</td>\n",
       "      <td>0.551737</td>\n",
       "      <td>25.633434</td>\n",
       "      <td>0.221790</td>\n",
       "      <td>-8.698941</td>\n",
       "      <td>3.850111</td>\n",
       "      <td>121.744778</td>\n",
       "      <td>0.426707</td>\n",
       "      <td>0.098921</td>\n",
       "    </tr>\n",
       "    <tr>\n",
       "      <th>2020</th>\n",
       "      <td>0.632575</td>\n",
       "      <td>0.552795</td>\n",
       "      <td>26.464679</td>\n",
       "      <td>0.210886</td>\n",
       "      <td>-8.954015</td>\n",
       "      <td>3.767535</td>\n",
       "      <td>121.572633</td>\n",
       "      <td>0.425594</td>\n",
       "      <td>0.097672</td>\n",
       "    </tr>\n",
       "    <tr>\n",
       "      <th>2021</th>\n",
       "      <td>0.635615</td>\n",
       "      <td>0.551172</td>\n",
       "      <td>28.151831</td>\n",
       "      <td>0.210235</td>\n",
       "      <td>-8.950141</td>\n",
       "      <td>3.707999</td>\n",
       "      <td>121.747508</td>\n",
       "      <td>0.427423</td>\n",
       "      <td>0.096755</td>\n",
       "    </tr>\n",
       "    <tr>\n",
       "      <th>2022</th>\n",
       "      <td>0.641324</td>\n",
       "      <td>0.548411</td>\n",
       "      <td>31.088970</td>\n",
       "      <td>0.217718</td>\n",
       "      <td>-8.962979</td>\n",
       "      <td>3.609679</td>\n",
       "      <td>122.101232</td>\n",
       "      <td>0.425979</td>\n",
       "      <td>0.098261</td>\n",
       "    </tr>\n",
       "    <tr>\n",
       "      <th>2023</th>\n",
       "      <td>0.616261</td>\n",
       "      <td>0.539993</td>\n",
       "      <td>19.921524</td>\n",
       "      <td>0.216467</td>\n",
       "      <td>-9.632403</td>\n",
       "      <td>3.795922</td>\n",
       "      <td>121.651328</td>\n",
       "      <td>0.424245</td>\n",
       "      <td>0.088413</td>\n",
       "    </tr>\n",
       "  </tbody>\n",
       "</table>\n",
       "</div>"
      ],
      "text/plain": [
       "        energy  danceability  popularity  liveness   loudness  duration  \\\n",
       "year                                                                      \n",
       "2000  0.604446      0.528590   10.736181  0.219137 -10.148483  4.331459   \n",
       "2001  0.600322      0.524793   11.253359  0.219772 -10.097640  4.365222   \n",
       "2002  0.622776      0.531639   11.679041  0.224506  -9.587969  4.388925   \n",
       "2003  0.627254      0.526321   12.435730  0.224276  -9.375994  4.316647   \n",
       "2004  0.637659      0.530033   12.298732  0.228731  -9.109423  4.306355   \n",
       "2005  0.631733      0.525542   13.425044  0.228458  -9.267949  4.361084   \n",
       "2006  0.634384      0.533050   13.137903  0.224144  -9.139491  4.386501   \n",
       "2007  0.644446      0.533309   13.471446  0.228937  -9.028157  4.415313   \n",
       "2008  0.651215      0.534577   13.462894  0.226360  -8.763337  4.398722   \n",
       "2009  0.648119      0.535684   14.404596  0.229907  -8.807054  4.427241   \n",
       "2010  0.654701      0.531513   14.856000  0.226106  -8.778307  4.450045   \n",
       "2011  0.658914      0.537499   15.884894  0.230377  -8.628183  4.304406   \n",
       "2012  0.655837      0.531656   16.359855  0.229579  -8.645246  4.300409   \n",
       "2013  0.651601      0.532944   17.511839  0.227853  -8.613594  4.281667   \n",
       "2014  0.653123      0.534597   18.807687  0.226524  -8.511199  4.194060   \n",
       "2015  0.646854      0.532678   20.115139  0.226800  -8.640562  4.168971   \n",
       "2016  0.655247      0.541496   22.319519  0.216137  -8.503049  4.126333   \n",
       "2017  0.641421      0.545341   23.095665  0.222467  -8.688531  3.984388   \n",
       "2018  0.639793      0.548891   24.161761  0.217462  -8.752343  3.927671   \n",
       "2019  0.647856      0.551737   25.633434  0.221790  -8.698941  3.850111   \n",
       "2020  0.632575      0.552795   26.464679  0.210886  -8.954015  3.767535   \n",
       "2021  0.635615      0.551172   28.151831  0.210235  -8.950141  3.707999   \n",
       "2022  0.641324      0.548411   31.088970  0.217718  -8.962979  3.609679   \n",
       "2023  0.616261      0.539993   19.921524  0.216467  -9.632403  3.795922   \n",
       "\n",
       "           tempo   valence  speechiness  \n",
       "year                                     \n",
       "2000  119.853731  0.507284     0.084210  \n",
       "2001  119.115111  0.488250     0.085461  \n",
       "2002  119.802349  0.498285     0.085943  \n",
       "2003  120.105939  0.491708     0.087809  \n",
       "2004  120.454719  0.491882     0.087039  \n",
       "2005  120.742589  0.487344     0.088181  \n",
       "2006  120.946902  0.486790     0.089972  \n",
       "2007  121.062447  0.478078     0.092813  \n",
       "2008  122.401332  0.476483     0.090511  \n",
       "2009  122.052401  0.469708     0.092920  \n",
       "2010  122.236846  0.458671     0.093066  \n",
       "2011  122.226923  0.466107     0.095752  \n",
       "2012  122.061554  0.452785     0.092253  \n",
       "2013  121.851927  0.450393     0.091530  \n",
       "2014  121.813514  0.445062     0.093887  \n",
       "2015  121.725337  0.431561     0.092367  \n",
       "2016  122.057371  0.410110     0.101879  \n",
       "2017  121.319593  0.429488     0.096325  \n",
       "2018  121.317311  0.427085     0.097987  \n",
       "2019  121.744778  0.426707     0.098921  \n",
       "2020  121.572633  0.425594     0.097672  \n",
       "2021  121.747508  0.427423     0.096755  \n",
       "2022  122.101232  0.425979     0.098261  \n",
       "2023  121.651328  0.424245     0.088413  "
      ]
     },
     "execution_count": 5,
     "metadata": {},
     "output_type": "execute_result"
    }
   ],
   "source": [
    "energy = pd.DataFrame(df.groupby([\"year\"])[\"energy\"].mean())\n",
    "danceability = pd.DataFrame(df.groupby([\"year\"])[\"danceability\"].mean())\n",
    "popularity = pd.DataFrame(df.groupby([\"year\"])[\"popularity\"].mean())\n",
    "liveness = pd.DataFrame(df.groupby([\"year\"])[\"liveness\"].mean())\n",
    "loudness = pd.DataFrame(df.groupby([\"year\"])[\"loudness\"].mean())\n",
    "valence = pd.DataFrame(df.groupby([\"year\"])[\"valence\"].mean())\n",
    "speechiness = pd.DataFrame(df.groupby([\"year\"])[\"speechiness\"].mean())\n",
    "duration = pd.DataFrame(df.groupby([\"year\"])[\"duration\"].mean())\n",
    "tempo = pd.DataFrame(df.groupby([\"year\"])[\"tempo\"].mean())\n",
    "parameters = pd.concat(\n",
    "    [energy, danceability, popularity, liveness, loudness, duration, tempo, valence, speechiness],\n",
    "    axis=1,\n",
    ")\n",
    "\n",
    "parameters"
   ]
  },
  {
   "cell_type": "markdown",
   "id": "fc26cc7e",
   "metadata": {},
   "source": [
    "#### **Reflection of 3.1: Converting the duration given in ms to seconds and reorganize all the features using their means per year will ease us the process of plotting the data and interpretate it when it comes to analyze it over time.**"
   ]
  },
  {
   "cell_type": "markdown",
   "id": "aebfc93b",
   "metadata": {},
   "source": [
    "### **3.2. Plotting how loudness has evolved over time**"
   ]
  },
  {
   "cell_type": "code",
   "execution_count": 6,
   "id": "f62b2918",
   "metadata": {},
   "outputs": [
    {
     "data": {
      "image/png": "[encoded data removed]",
      "text/plain": [
       "<Figure size 800x500 with 1 Axes>"
      ]
     },
     "metadata": {},
     "output_type": "display_data"
    }
   ],
   "source": [
    "plt.figure(figsize=(8,5))\n",
    "sns.scatterplot(data=parameters, x=\"year\", y=\"loudness\")\n",
    "plt.xlabel(\"Year\")\n",
    "plt.ylabel(\"Loudness\")\n",
    "plt.title(\"Loudness Evolution Over Years\")\n",
    "plt.show()"
   ]
  },
  {
   "cell_type": "markdown",
   "id": "9e4c6f6b",
   "metadata": {},
   "source": [
    "#### **Reflection of 3.2: This plot represents a historical phenomenom called the loudness war, wich was a technique used by music engineers to make their songs stand out due to their high volume, we can see how it was increasing during the first two decades of the century, now it's less popular.**"
   ]
  },
  {
   "cell_type": "markdown",
   "id": "322ca40c",
   "metadata": {},
   "source": [
    "### **3.3. Plotting how liveness has evolved over time**"
   ]
  },
  {
   "cell_type": "code",
   "execution_count": 64,
   "id": "19f3ddc6",
   "metadata": {},
   "outputs": [
    {
     "data": {
      "image/png": "[encoded data removed]",
      "text/plain": [
       "<Figure size 800x500 with 1 Axes>"
      ]
     },
     "metadata": {},
     "output_type": "display_data"
    }
   ],
   "source": [
    "plt.figure(figsize=(8, 5))\n",
    "sns.scatterplot(data=parameters, x=\"year\", y=\"liveness\")\n",
    "plt.xlabel(\"Year\")\n",
    "plt.ylabel(\"Liveness\")\n",
    "plt.title(\"Liveness Evolution Over Years\")\n",
    "plt.show()"
   ]
  },
  {
   "cell_type": "markdown",
   "id": "331a0104",
   "metadata": {},
   "source": [
    "#### **Reflection of 3.3: Since liveness estimates how likely is this track a live performance (like a concert) with this chart we can see how the music has been professionalized over the years, after 2010, the vast majority of music went to be recorded on a studio. Nowadays, we can see only a few examples of recent live performances on Spotify.**"
   ]
  },
  {
   "cell_type": "markdown",
   "id": "147b3a66",
   "metadata": {},
   "source": [
    "### **3.4. Plotting how duration has evolved over time**"
   ]
  },
  {
   "cell_type": "code",
   "execution_count": 71,
   "id": "9be73fd2",
   "metadata": {},
   "outputs": [
    {
     "data": {
      "image/png": "[encoded data removed]",
      "text/plain": [
       "<Figure size 800x500 with 1 Axes>"
      ]
     },
     "metadata": {},
     "output_type": "display_data"
    }
   ],
   "source": [
    "plt.figure(figsize=(8, 5))\n",
    "sns.scatterplot(data=parameters, x=\"year\", y=\"duration\")\n",
    "plt.xlabel(\"Year\")\n",
    "plt.ylabel(\"Duration\")\n",
    "plt.title(\"Duration Evolution Over Years\")\n",
    "plt.show()"
   ]
  },
  {
   "cell_type": "markdown",
   "id": "4a26f354",
   "metadata": {},
   "source": [
    "#### **Reflection of 3.4: This plot reflects clearly the \"attention economy\", which tells us that the content that we consume is shorter and more ephemeral over time due to the short attention span of this society, this decreasing effect its more pronounced with the release of instagram (2010), and tiktok (2016)**"
   ]
  },
  {
   "cell_type": "markdown",
   "id": "b8129b61",
   "metadata": {},
   "source": [
    "### **3.5. See what genders did it better**"
   ]
  },
  {
   "cell_type": "code",
   "execution_count": 72,
   "id": "05b3cfe8",
   "metadata": {},
   "outputs": [
    {
     "data": {
      "image/png": "[encoded data removed]",
      "text/plain": [
       "<Figure size 1300x400 with 1 Axes>"
      ]
     },
     "metadata": {},
     "output_type": "display_data"
    }
   ],
   "source": [
    "genders = pd.DataFrame(df.groupby(df[\"genre\"])[\"popularity\"].mean())\n",
    "\n",
    "famous = genders.loc[genders[\"popularity\"]>25]\n",
    "\n",
    "famous = famous.sort_values(\"popularity\", ascending=False)\n",
    "\n",
    "plt.figure(figsize=(13, 4))\n",
    "sns.barplot(data=famous, x=\"genre\", y=\"popularity\", width=0.5)\n",
    "plt.xlabel(\"Musical Genre\")\n",
    "plt.ylabel(\"Popularity\")\n",
    "plt.title(\"What are the most successful genres?\")\n",
    "plt.show()"
   ]
  },
  {
   "cell_type": "markdown",
   "id": "9b523584",
   "metadata": {},
   "source": [
    "#### **Reflection of 3.6: This plot shows us how clearly pop has dominated the music scene over the years, followed by hip-hop, rock and dance, they're the biggest faces of the industry**"
   ]
  },
  {
   "cell_type": "markdown",
   "id": "4a6986a6",
   "metadata": {},
   "source": [
    "## **4. Comparision between songs, what do the popular songs have that the lesser-known ones don't?**"
   ]
  },
  {
   "cell_type": "code",
   "execution_count": 73,
   "id": "42ae48a5",
   "metadata": {},
   "outputs": [
    {
     "data": {
      "image/png": "[encoded data removed]",
      "text/plain": [
       "<Figure size 800x500 with 1 Axes>"
      ]
     },
     "metadata": {},
     "output_type": "display_data"
    }
   ],
   "source": [
    "plt.figure(figsize=(8,5))\n",
    "sns.scatterplot(data=parameters, x=\"year\", y=\"popularity\")\n",
    "plt.xlabel(\"Year\")\n",
    "plt.ylabel(\"Popularity\")\n",
    "plt.title(\"Popularity Evolution Over Years\")\n",
    "plt.show()"
   ]
  },
  {
   "cell_type": "code",
   "execution_count": 77,
   "id": "41edfda9",
   "metadata": {},
   "outputs": [
    {
     "data": {
      "image/png": "[encoded data removed]",
      "text/plain": [
       "<Figure size 1100x400 with 1 Axes>"
      ]
     },
     "metadata": {},
     "output_type": "display_data"
    }
   ],
   "source": [
    "correlations = {}\n",
    "\n",
    "i = 0\n",
    "\n",
    "for i in parameters.columns : \n",
    "    X = parameters[i].values.reshape(-1,1)\n",
    "    y = parameters[\"popularity\"].values\n",
    "    model = LinearRegression()\n",
    "    model.fit(X, y)\n",
    "    y_pred = model.predict(X)\n",
    "    r_squared = r2_score(y, y_pred)\n",
    "    if r_squared != 1:\n",
    "        correlations[i] = r_squared\n",
    "\n",
    "\n",
    "\n",
    "correlations =  pd.DataFrame.from_dict(correlations, orient='index', columns=['r_squared'])\n",
    "\n",
    "plt.figure(figsize=(11,4))\n",
    "sns.barplot(data=correlations, x=correlations.index, y=\"r_squared\", width=.5)\n",
    "plt.xlabel(\"Features\")\n",
    "plt.ylabel(\"Correlation (R²)\")\n",
    "plt.title(\"Correlation between features and popularity\")\n",
    "plt.show()\n",
    "\n"
   ]
  },
  {
   "cell_type": "code",
   "execution_count": 19,
   "id": "2f4bda94",
   "metadata": {},
   "outputs": [
    {
     "data": {
      "text/html": [
       "<div>\n",
       "<style scoped>\n",
       "    .dataframe tbody tr th:only-of-type {\n",
       "        vertical-align: middle;\n",
       "    }\n",
       "\n",
       "    .dataframe tbody tr th {\n",
       "        vertical-align: top;\n",
       "    }\n",
       "\n",
       "    .dataframe thead th {\n",
       "        text-align: right;\n",
       "    }\n",
       "</style>\n",
       "<table border=\"1\" class=\"dataframe\">\n",
       "  <thead>\n",
       "    <tr style=\"text-align: right;\">\n",
       "      <th></th>\n",
       "      <th>r_squared</th>\n",
       "    </tr>\n",
       "  </thead>\n",
       "  <tbody>\n",
       "    <tr>\n",
       "      <th>energy</th>\n",
       "      <td>0.074072</td>\n",
       "    </tr>\n",
       "    <tr>\n",
       "      <th>danceability</th>\n",
       "      <td>0.830390</td>\n",
       "    </tr>\n",
       "    <tr>\n",
       "      <th>liveness</th>\n",
       "      <td>0.403737</td>\n",
       "    </tr>\n",
       "    <tr>\n",
       "      <th>loudness</th>\n",
       "      <td>0.210218</td>\n",
       "    </tr>\n",
       "    <tr>\n",
       "      <th>duration_ms</th>\n",
       "      <td>0.859533</td>\n",
       "    </tr>\n",
       "    <tr>\n",
       "      <th>tempo</th>\n",
       "      <td>0.271019</td>\n",
       "    </tr>\n",
       "    <tr>\n",
       "      <th>valence</th>\n",
       "      <td>0.801688</td>\n",
       "    </tr>\n",
       "    <tr>\n",
       "      <th>speechiness</th>\n",
       "      <td>0.670424</td>\n",
       "    </tr>\n",
       "  </tbody>\n",
       "</table>\n",
       "</div>"
      ],
      "text/plain": [
       "              r_squared\n",
       "energy         0.074072\n",
       "danceability   0.830390\n",
       "liveness       0.403737\n",
       "loudness       0.210218\n",
       "duration_ms    0.859533\n",
       "tempo          0.271019\n",
       "valence        0.801688\n",
       "speechiness    0.670424"
      ]
     },
     "execution_count": 19,
     "metadata": {},
     "output_type": "execute_result"
    }
   ],
   "source": [
    "correlations"
   ]
  },
  {
   "cell_type": "markdown",
   "id": "ba08698b",
   "metadata": {},
   "source": [
    "#### **Reflection of 4: These charts show us the features that influence the most when it comes to guess the popularity of the song, the variables are:** \n",
    "1. **Time:**\n",
    "    The trend here reflects the Spotify ecosystem, not necessarily the global music landscape. For example, Thriller by Michael Jackson is one of the best-selling songs of all time, but if it isn’t being streamed as much today as Blinding Lights by The Weeknd, Spotify’s popularity metric will reflect that. It’s about current user engagement, not historical success.\n",
    "2. **Danceability:**\n",
    "    This is reasonable, because, the more danceable the song is, the more popular it will be and it's more possible to be streamed in a lot of places such as discotheques. \n",
    "3. **Duration:**\n",
    "    As we say in section 3.4, a lower duration means a more demand of that song in most of the cases.\n",
    "4. **Valence:**\n",
    "    The saddest songs are always the most popular ones. This can be evidenced when we look at the billboard 100's and the first places are heartbreaking songs, e.g., Blinding Lights by The Weeknd is the most streamed song in Spotify, it is energic, but the letters are related to sad experiences. "
   ]
  },
  {
   "cell_type": "markdown",
   "id": "92aec30e",
   "metadata": {},
   "source": [
    "## **5. Genre Comparisions**"
   ]
  },
  {
   "cell_type": "code",
   "execution_count": 65,
   "id": "84d32112",
   "metadata": {},
   "outputs": [
    {
     "data": {
      "text/html": [
       "<div>\n",
       "<style scoped>\n",
       "    .dataframe tbody tr th:only-of-type {\n",
       "        vertical-align: middle;\n",
       "    }\n",
       "\n",
       "    .dataframe tbody tr th {\n",
       "        vertical-align: top;\n",
       "    }\n",
       "\n",
       "    .dataframe thead th {\n",
       "        text-align: right;\n",
       "    }\n",
       "</style>\n",
       "<table border=\"1\" class=\"dataframe\">\n",
       "  <thead>\n",
       "    <tr style=\"text-align: right;\">\n",
       "      <th></th>\n",
       "      <th>energy</th>\n",
       "      <th>danceability</th>\n",
       "      <th>popularity</th>\n",
       "      <th>liveness</th>\n",
       "      <th>loudness</th>\n",
       "      <th>duration</th>\n",
       "      <th>tempo</th>\n",
       "      <th>valence</th>\n",
       "      <th>speechiness</th>\n",
       "      <th>instrumentalness</th>\n",
       "    </tr>\n",
       "    <tr>\n",
       "      <th>genre</th>\n",
       "      <th></th>\n",
       "      <th></th>\n",
       "      <th></th>\n",
       "      <th></th>\n",
       "      <th></th>\n",
       "      <th></th>\n",
       "      <th></th>\n",
       "      <th></th>\n",
       "      <th></th>\n",
       "      <th></th>\n",
       "    </tr>\n",
       "  </thead>\n",
       "  <tbody>\n",
       "    <tr>\n",
       "      <th>acoustic</th>\n",
       "      <td>0.427905</td>\n",
       "      <td>0.535313</td>\n",
       "      <td>17.825094</td>\n",
       "      <td>0.176891</td>\n",
       "      <td>-10.444731</td>\n",
       "      <td>3.632057</td>\n",
       "      <td>118.452399</td>\n",
       "      <td>0.429997</td>\n",
       "      <td>0.049179</td>\n",
       "      <td>0.150340</td>\n",
       "    </tr>\n",
       "    <tr>\n",
       "      <th>afrobeat</th>\n",
       "      <td>0.693740</td>\n",
       "      <td>0.652585</td>\n",
       "      <td>8.559984</td>\n",
       "      <td>0.184229</td>\n",
       "      <td>-8.115054</td>\n",
       "      <td>4.559483</td>\n",
       "      <td>119.093185</td>\n",
       "      <td>0.695503</td>\n",
       "      <td>0.090955</td>\n",
       "      <td>0.266751</td>\n",
       "    </tr>\n",
       "    <tr>\n",
       "      <th>alt-rock</th>\n",
       "      <td>0.739956</td>\n",
       "      <td>0.502348</td>\n",
       "      <td>38.596807</td>\n",
       "      <td>0.205582</td>\n",
       "      <td>-6.224047</td>\n",
       "      <td>3.933202</td>\n",
       "      <td>126.244973</td>\n",
       "      <td>0.453770</td>\n",
       "      <td>0.060960</td>\n",
       "      <td>0.081634</td>\n",
       "    </tr>\n",
       "    <tr>\n",
       "      <th>ambient</th>\n",
       "      <td>0.263210</td>\n",
       "      <td>0.329441</td>\n",
       "      <td>20.008743</td>\n",
       "      <td>0.145289</td>\n",
       "      <td>-19.240342</td>\n",
       "      <td>4.976340</td>\n",
       "      <td>107.841678</td>\n",
       "      <td>0.158700</td>\n",
       "      <td>0.050128</td>\n",
       "      <td>0.766679</td>\n",
       "    </tr>\n",
       "    <tr>\n",
       "      <th>black-metal</th>\n",
       "      <td>0.834440</td>\n",
       "      <td>0.264975</td>\n",
       "      <td>11.082658</td>\n",
       "      <td>0.246642</td>\n",
       "      <td>-7.043945</td>\n",
       "      <td>5.529791</td>\n",
       "      <td>125.110665</td>\n",
       "      <td>0.152843</td>\n",
       "      <td>0.090978</td>\n",
       "      <td>0.546191</td>\n",
       "    </tr>\n",
       "    <tr>\n",
       "      <th>...</th>\n",
       "      <td>...</td>\n",
       "      <td>...</td>\n",
       "      <td>...</td>\n",
       "      <td>...</td>\n",
       "      <td>...</td>\n",
       "      <td>...</td>\n",
       "      <td>...</td>\n",
       "      <td>...</td>\n",
       "      <td>...</td>\n",
       "      <td>...</td>\n",
       "    </tr>\n",
       "    <tr>\n",
       "      <th>swedish</th>\n",
       "      <td>0.656501</td>\n",
       "      <td>0.541318</td>\n",
       "      <td>19.932329</td>\n",
       "      <td>0.210804</td>\n",
       "      <td>-8.239616</td>\n",
       "      <td>3.807658</td>\n",
       "      <td>122.033923</td>\n",
       "      <td>0.475983</td>\n",
       "      <td>0.096156</td>\n",
       "      <td>0.140599</td>\n",
       "    </tr>\n",
       "    <tr>\n",
       "      <th>tango</th>\n",
       "      <td>0.322002</td>\n",
       "      <td>0.549137</td>\n",
       "      <td>2.523326</td>\n",
       "      <td>0.211207</td>\n",
       "      <td>-10.968929</td>\n",
       "      <td>3.077070</td>\n",
       "      <td>116.248238</td>\n",
       "      <td>0.569726</td>\n",
       "      <td>0.077496</td>\n",
       "      <td>0.247612</td>\n",
       "    </tr>\n",
       "    <tr>\n",
       "      <th>techno</th>\n",
       "      <td>0.784461</td>\n",
       "      <td>0.663677</td>\n",
       "      <td>14.704989</td>\n",
       "      <td>0.176909</td>\n",
       "      <td>-8.512766</td>\n",
       "      <td>5.597752</td>\n",
       "      <td>132.391195</td>\n",
       "      <td>0.363360</td>\n",
       "      <td>0.080074</td>\n",
       "      <td>0.632240</td>\n",
       "    </tr>\n",
       "    <tr>\n",
       "      <th>trance</th>\n",
       "      <td>0.846695</td>\n",
       "      <td>0.578327</td>\n",
       "      <td>14.915972</td>\n",
       "      <td>0.231888</td>\n",
       "      <td>-7.667257</td>\n",
       "      <td>5.541980</td>\n",
       "      <td>134.244129</td>\n",
       "      <td>0.316990</td>\n",
       "      <td>0.066364</td>\n",
       "      <td>0.553708</td>\n",
       "    </tr>\n",
       "    <tr>\n",
       "      <th>trip-hop</th>\n",
       "      <td>0.638096</td>\n",
       "      <td>0.631451</td>\n",
       "      <td>6.538148</td>\n",
       "      <td>0.193112</td>\n",
       "      <td>-9.406744</td>\n",
       "      <td>4.712678</td>\n",
       "      <td>120.121874</td>\n",
       "      <td>0.461572</td>\n",
       "      <td>0.079759</td>\n",
       "      <td>0.451812</td>\n",
       "    </tr>\n",
       "  </tbody>\n",
       "</table>\n",
       "<p>82 rows × 10 columns</p>\n",
       "</div>"
      ],
      "text/plain": [
       "               energy  danceability  popularity  liveness   loudness  \\\n",
       "genre                                                                  \n",
       "acoustic     0.427905      0.535313   17.825094  0.176891 -10.444731   \n",
       "afrobeat     0.693740      0.652585    8.559984  0.184229  -8.115054   \n",
       "alt-rock     0.739956      0.502348   38.596807  0.205582  -6.224047   \n",
       "ambient      0.263210      0.329441   20.008743  0.145289 -19.240342   \n",
       "black-metal  0.834440      0.264975   11.082658  0.246642  -7.043945   \n",
       "...               ...           ...         ...       ...        ...   \n",
       "swedish      0.656501      0.541318   19.932329  0.210804  -8.239616   \n",
       "tango        0.322002      0.549137    2.523326  0.211207 -10.968929   \n",
       "techno       0.784461      0.663677   14.704989  0.176909  -8.512766   \n",
       "trance       0.846695      0.578327   14.915972  0.231888  -7.667257   \n",
       "trip-hop     0.638096      0.631451    6.538148  0.193112  -9.406744   \n",
       "\n",
       "             duration       tempo   valence  speechiness  instrumentalness  \n",
       "genre                                                                       \n",
       "acoustic     3.632057  118.452399  0.429997     0.049179          0.150340  \n",
       "afrobeat     4.559483  119.093185  0.695503     0.090955          0.266751  \n",
       "alt-rock     3.933202  126.244973  0.453770     0.060960          0.081634  \n",
       "ambient      4.976340  107.841678  0.158700     0.050128          0.766679  \n",
       "black-metal  5.529791  125.110665  0.152843     0.090978          0.546191  \n",
       "...               ...         ...       ...          ...               ...  \n",
       "swedish      3.807658  122.033923  0.475983     0.096156          0.140599  \n",
       "tango        3.077070  116.248238  0.569726     0.077496          0.247612  \n",
       "techno       5.597752  132.391195  0.363360     0.080074          0.632240  \n",
       "trance       5.541980  134.244129  0.316990     0.066364          0.553708  \n",
       "trip-hop     4.712678  120.121874  0.461572     0.079759          0.451812  \n",
       "\n",
       "[82 rows x 10 columns]"
      ]
     },
     "execution_count": 65,
     "metadata": {},
     "output_type": "execute_result"
    }
   ],
   "source": [
    "energy = pd.DataFrame(df.groupby([\"genre\"])[\"energy\"].mean())\n",
    "danceability = pd.DataFrame(df.groupby([\"genre\"])[\"danceability\"].mean())\n",
    "popularity = pd.DataFrame(df.groupby([\"genre\"])[\"popularity\"].mean())\n",
    "liveness = pd.DataFrame(df.groupby([\"genre\"])[\"liveness\"].mean())\n",
    "loudness = pd.DataFrame(df.groupby([\"genre\"])[\"loudness\"].mean())\n",
    "valence = pd.DataFrame(df.groupby([\"genre\"])[\"valence\"].mean())\n",
    "speechiness = pd.DataFrame(df.groupby([\"genre\"])[\"speechiness\"].mean())\n",
    "duration = pd.DataFrame(df.groupby([\"genre\"])[\"duration\"].mean())\n",
    "tempo = pd.DataFrame(df.groupby([\"genre\"])[\"tempo\"].mean())\n",
    "instrumentalness = pd.DataFrame(df.groupby([\"genre\"])[\"instrumentalness\"].mean())\n",
    "genres = pd.concat(\n",
    "    [energy, danceability, popularity, liveness, loudness, duration, tempo, valence, speechiness, instrumentalness],\n",
    "    axis=1,\n",
    ")\n",
    "\n",
    "genres"
   ]
  },
  {
   "cell_type": "markdown",
   "id": "5d13f6a3",
   "metadata": {},
   "source": [
    "### **5.1. Duration behaviour between genres**"
   ]
  },
  {
   "cell_type": "code",
   "execution_count": 23,
   "id": "1dcd92d6",
   "metadata": {},
   "outputs": [
    {
     "data": {
      "application/vnd.plotly.v1+json": {
       "config": {
        "plotlyServerURL": "https://plot.ly"
       },
       "data": [
        {
         "hovertemplate": "genre=%{x}<br>duration=%{y}<extra></extra>",
         "legendgroup": "",
         "line": {
          "color": "#636efa",
          "dash": "solid"
         },
         "marker": {
          "symbol": "circle"
         },
         "mode": "lines",
         "name": "",
         "orientation": "v",
         "showlegend": false,
         "type": "scatter",
         "x": [
          "alt-rock",
          "ambient",
          "blues",
          "chill",
          "classical",
          "country",
          "dance",
          "edm",
          "electro",
          "electronic",
          "emo",
          "folk",
          "french",
          "funk",
          "german",
          "hard-rock",
          "hardcore",
          "hip-hop",
          "house",
          "indie-pop",
          "jazz",
          "k-pop",
          "metal",
          "pop",
          "punk",
          "rock",
          "sad",
          "sertanejo",
          "singer-songwriter",
          "soul",
          "spanish"
         ],
         "xaxis": "x",
         "y": {
          "bdata": "8ot7lzJ3D0Bg8cSsxecTQH/y82m01hBAn+Fyosz+DUBpsrfsx2sRQIh2xFBqVg1AvZstsonJDUCkxZH51HoSQIF0URdDlBBAm4j0iQL8EUCQVxwErOoKQKDtBCeweA1AMA00caXiDUDPgznEsAMQQPkklsQjBxBAWmILD1wYEUDEdYKMttYKQFJe4pedwwxAeGuXJygtFECZhDONEAINQGLoR7QxARBA8BAI78rRD0AxL2sssj0QQARzH22lOQ5Af2SldEGRCkBEYlLcRxYPQIPD9V1pFghAtB3J5Cf2CkDE9vW9Vm0PQNIpPJGe0A1AugCOsgQPD0A=",
          "dtype": "f8"
         },
         "yaxis": "y"
        }
       ],
       "layout": {
        "height": 500,
        "legend": {
         "tracegroupgap": 0
        },
        "template": {
         "data": {
          "bar": [
           {
            "error_x": {
             "color": "#2a3f5f"
            },
            "error_y": {
             "color": "#2a3f5f"
            },
            "marker": {
             "line": {
              "color": "#E5ECF6",
              "width": 0.5
             },
             "pattern": {
              "fillmode": "overlay",
              "size": 10,
              "solidity": 0.2
             }
            },
            "type": "bar"
           }
          ],
          "barpolar": [
           {
            "marker": {
             "line": {
              "color": "#E5ECF6",
              "width": 0.5
             },
             "pattern": {
              "fillmode": "overlay",
              "size": 10,
              "solidity": 0.2
             }
            },
            "type": "barpolar"
           }
          ],
          "carpet": [
           {
            "aaxis": {
             "endlinecolor": "#2a3f5f",
             "gridcolor": "white",
             "linecolor": "white",
             "minorgridcolor": "white",
             "startlinecolor": "#2a3f5f"
            },
            "baxis": {
             "endlinecolor": "#2a3f5f",
             "gridcolor": "white",
             "linecolor": "white",
             "minorgridcolor": "white",
             "startlinecolor": "#2a3f5f"
            },
            "type": "carpet"
           }
          ],
          "choropleth": [
           {
            "colorbar": {
             "outlinewidth": 0,
             "ticks": ""
            },
            "type": "choropleth"
           }
          ],
          "contour": [
           {
            "colorbar": {
             "outlinewidth": 0,
             "ticks": ""
            },
            "colorscale": [
             [
              0,
              "#0d0887"
             ],
             [
              0.1111111111111111,
              "#46039f"
             ],
             [
              0.2222222222222222,
              "#7201a8"
             ],
             [
              0.3333333333333333,
              "#9c179e"
             ],
             [
              0.4444444444444444,
              "#bd3786"
             ],
             [
              0.5555555555555556,
              "#d8576b"
             ],
             [
              0.6666666666666666,
              "#ed7953"
             ],
             [
              0.7777777777777778,
              "#fb9f3a"
             ],
             [
              0.8888888888888888,
              "#fdca26"
             ],
             [
              1,
              "#f0f921"
             ]
            ],
            "type": "contour"
           }
          ],
          "contourcarpet": [
           {
            "colorbar": {
             "outlinewidth": 0,
             "ticks": ""
            },
            "type": "contourcarpet"
           }
          ],
          "heatmap": [
           {
            "colorbar": {
             "outlinewidth": 0,
             "ticks": ""
            },
            "colorscale": [
             [
              0,
              "#0d0887"
             ],
             [
              0.1111111111111111,
              "#46039f"
             ],
             [
              0.2222222222222222,
              "#7201a8"
             ],
             [
              0.3333333333333333,
              "#9c179e"
             ],
             [
              0.4444444444444444,
              "#bd3786"
             ],
             [
              0.5555555555555556,
              "#d8576b"
             ],
             [
              0.6666666666666666,
              "#ed7953"
             ],
             [
              0.7777777777777778,
              "#fb9f3a"
             ],
             [
              0.8888888888888888,
              "#fdca26"
             ],
             [
              1,
              "#f0f921"
             ]
            ],
            "type": "heatmap"
           }
          ],
          "histogram": [
           {
            "marker": {
             "pattern": {
              "fillmode": "overlay",
              "size": 10,
              "solidity": 0.2
             }
            },
            "type": "histogram"
           }
          ],
          "histogram2d": [
           {
            "colorbar": {
             "outlinewidth": 0,
             "ticks": ""
            },
            "colorscale": [
             [
              0,
              "#0d0887"
             ],
             [
              0.1111111111111111,
              "#46039f"
             ],
             [
              0.2222222222222222,
              "#7201a8"
             ],
             [
              0.3333333333333333,
              "#9c179e"
             ],
             [
              0.4444444444444444,
              "#bd3786"
             ],
             [
              0.5555555555555556,
              "#d8576b"
             ],
             [
              0.6666666666666666,
              "#ed7953"
             ],
             [
              0.7777777777777778,
              "#fb9f3a"
             ],
             [
              0.8888888888888888,
              "#fdca26"
             ],
             [
              1,
              "#f0f921"
             ]
            ],
            "type": "histogram2d"
           }
          ],
          "histogram2dcontour": [
           {
            "colorbar": {
             "outlinewidth": 0,
             "ticks": ""
            },
            "colorscale": [
             [
              0,
              "#0d0887"
             ],
             [
              0.1111111111111111,
              "#46039f"
             ],
             [
              0.2222222222222222,
              "#7201a8"
             ],
             [
              0.3333333333333333,
              "#9c179e"
             ],
             [
              0.4444444444444444,
              "#bd3786"
             ],
             [
              0.5555555555555556,
              "#d8576b"
             ],
             [
              0.6666666666666666,
              "#ed7953"
             ],
             [
              0.7777777777777778,
              "#fb9f3a"
             ],
             [
              0.8888888888888888,
              "#fdca26"
             ],
             [
              1,
              "#f0f921"
             ]
            ],
            "type": "histogram2dcontour"
           }
          ],
          "mesh3d": [
           {
            "colorbar": {
             "outlinewidth": 0,
             "ticks": ""
            },
            "type": "mesh3d"
           }
          ],
          "parcoords": [
           {
            "line": {
             "colorbar": {
              "outlinewidth": 0,
              "ticks": ""
             }
            },
            "type": "parcoords"
           }
          ],
          "pie": [
           {
            "automargin": true,
            "type": "pie"
           }
          ],
          "scatter": [
           {
            "fillpattern": {
             "fillmode": "overlay",
             "size": 10,
             "solidity": 0.2
            },
            "type": "scatter"
           }
          ],
          "scatter3d": [
           {
            "line": {
             "colorbar": {
              "outlinewidth": 0,
              "ticks": ""
             }
            },
            "marker": {
             "colorbar": {
              "outlinewidth": 0,
              "ticks": ""
             }
            },
            "type": "scatter3d"
           }
          ],
          "scattercarpet": [
           {
            "marker": {
             "colorbar": {
              "outlinewidth": 0,
              "ticks": ""
             }
            },
            "type": "scattercarpet"
           }
          ],
          "scattergeo": [
           {
            "marker": {
             "colorbar": {
              "outlinewidth": 0,
              "ticks": ""
             }
            },
            "type": "scattergeo"
           }
          ],
          "scattergl": [
           {
            "marker": {
             "colorbar": {
              "outlinewidth": 0,
              "ticks": ""
             }
            },
            "type": "scattergl"
           }
          ],
          "scattermap": [
           {
            "marker": {
             "colorbar": {
              "outlinewidth": 0,
              "ticks": ""
             }
            },
            "type": "scattermap"
           }
          ],
          "scattermapbox": [
           {
            "marker": {
             "colorbar": {
              "outlinewidth": 0,
              "ticks": ""
             }
            },
            "type": "scattermapbox"
           }
          ],
          "scatterpolar": [
           {
            "marker": {
             "colorbar": {
              "outlinewidth": 0,
              "ticks": ""
             }
            },
            "type": "scatterpolar"
           }
          ],
          "scatterpolargl": [
           {
            "marker": {
             "colorbar": {
              "outlinewidth": 0,
              "ticks": ""
             }
            },
            "type": "scatterpolargl"
           }
          ],
          "scatterternary": [
           {
            "marker": {
             "colorbar": {
              "outlinewidth": 0,
              "ticks": ""
             }
            },
            "type": "scatterternary"
           }
          ],
          "surface": [
           {
            "colorbar": {
             "outlinewidth": 0,
             "ticks": ""
            },
            "colorscale": [
             [
              0,
              "#0d0887"
             ],
             [
              0.1111111111111111,
              "#46039f"
             ],
             [
              0.2222222222222222,
              "#7201a8"
             ],
             [
              0.3333333333333333,
              "#9c179e"
             ],
             [
              0.4444444444444444,
              "#bd3786"
             ],
             [
              0.5555555555555556,
              "#d8576b"
             ],
             [
              0.6666666666666666,
              "#ed7953"
             ],
             [
              0.7777777777777778,
              "#fb9f3a"
             ],
             [
              0.8888888888888888,
              "#fdca26"
             ],
             [
              1,
              "#f0f921"
             ]
            ],
            "type": "surface"
           }
          ],
          "table": [
           {
            "cells": {
             "fill": {
              "color": "#EBF0F8"
             },
             "line": {
              "color": "white"
             }
            },
            "header": {
             "fill": {
              "color": "#C8D4E3"
             },
             "line": {
              "color": "white"
             }
            },
            "type": "table"
           }
          ]
         },
         "layout": {
          "annotationdefaults": {
           "arrowcolor": "#2a3f5f",
           "arrowhead": 0,
           "arrowwidth": 1
          },
          "autotypenumbers": "strict",
          "coloraxis": {
           "colorbar": {
            "outlinewidth": 0,
            "ticks": ""
           }
          },
          "colorscale": {
           "diverging": [
            [
             0,
             "#8e0152"
            ],
            [
             0.1,
             "#c51b7d"
            ],
            [
             0.2,
             "#de77ae"
            ],
            [
             0.3,
             "#f1b6da"
            ],
            [
             0.4,
             "#fde0ef"
            ],
            [
             0.5,
             "#f7f7f7"
            ],
            [
             0.6,
             "#e6f5d0"
            ],
            [
             0.7,
             "#b8e186"
            ],
            [
             0.8,
             "#7fbc41"
            ],
            [
             0.9,
             "#4d9221"
            ],
            [
             1,
             "#276419"
            ]
           ],
           "sequential": [
            [
             0,
             "#0d0887"
            ],
            [
             0.1111111111111111,
             "#46039f"
            ],
            [
             0.2222222222222222,
             "#7201a8"
            ],
            [
             0.3333333333333333,
             "#9c179e"
            ],
            [
             0.4444444444444444,
             "#bd3786"
            ],
            [
             0.5555555555555556,
             "#d8576b"
            ],
            [
             0.6666666666666666,
             "#ed7953"
            ],
            [
             0.7777777777777778,
             "#fb9f3a"
            ],
            [
             0.8888888888888888,
             "#fdca26"
            ],
            [
             1,
             "#f0f921"
            ]
           ],
           "sequentialminus": [
            [
             0,
             "#0d0887"
            ],
            [
             0.1111111111111111,
             "#46039f"
            ],
            [
             0.2222222222222222,
             "#7201a8"
            ],
            [
             0.3333333333333333,
             "#9c179e"
            ],
            [
             0.4444444444444444,
             "#bd3786"
            ],
            [
             0.5555555555555556,
             "#d8576b"
            ],
            [
             0.6666666666666666,
             "#ed7953"
            ],
            [
             0.7777777777777778,
             "#fb9f3a"
            ],
            [
             0.8888888888888888,
             "#fdca26"
            ],
            [
             1,
             "#f0f921"
            ]
           ]
          },
          "colorway": [
           "#636efa",
           "#EF553B",
           "#00cc96",
           "#ab63fa",
           "#FFA15A",
           "#19d3f3",
           "#FF6692",
           "#B6E880",
           "#FF97FF",
           "#FECB52"
          ],
          "font": {
           "color": "#2a3f5f"
          },
          "geo": {
           "bgcolor": "white",
           "lakecolor": "white",
           "landcolor": "#E5ECF6",
           "showlakes": true,
           "showland": true,
           "subunitcolor": "white"
          },
          "hoverlabel": {
           "align": "left"
          },
          "hovermode": "closest",
          "mapbox": {
           "style": "light"
          },
          "paper_bgcolor": "white",
          "plot_bgcolor": "#E5ECF6",
          "polar": {
           "angularaxis": {
            "gridcolor": "white",
            "linecolor": "white",
            "ticks": ""
           },
           "bgcolor": "#E5ECF6",
           "radialaxis": {
            "gridcolor": "white",
            "linecolor": "white",
            "ticks": ""
           }
          },
          "scene": {
           "xaxis": {
            "backgroundcolor": "#E5ECF6",
            "gridcolor": "white",
            "gridwidth": 2,
            "linecolor": "white",
            "showbackground": true,
            "ticks": "",
            "zerolinecolor": "white"
           },
           "yaxis": {
            "backgroundcolor": "#E5ECF6",
            "gridcolor": "white",
            "gridwidth": 2,
            "linecolor": "white",
            "showbackground": true,
            "ticks": "",
            "zerolinecolor": "white"
           },
           "zaxis": {
            "backgroundcolor": "#E5ECF6",
            "gridcolor": "white",
            "gridwidth": 2,
            "linecolor": "white",
            "showbackground": true,
            "ticks": "",
            "zerolinecolor": "white"
           }
          },
          "shapedefaults": {
           "line": {
            "color": "#2a3f5f"
           }
          },
          "ternary": {
           "aaxis": {
            "gridcolor": "white",
            "linecolor": "white",
            "ticks": ""
           },
           "baxis": {
            "gridcolor": "white",
            "linecolor": "white",
            "ticks": ""
           },
           "bgcolor": "#E5ECF6",
           "caxis": {
            "gridcolor": "white",
            "linecolor": "white",
            "ticks": ""
           }
          },
          "title": {
           "x": 0.05
          },
          "xaxis": {
           "automargin": true,
           "gridcolor": "white",
           "linecolor": "white",
           "ticks": "",
           "title": {
            "standoff": 15
           },
           "zerolinecolor": "white",
           "zerolinewidth": 2
          },
          "yaxis": {
           "automargin": true,
           "gridcolor": "white",
           "linecolor": "white",
           "ticks": "",
           "title": {
            "standoff": 15
           },
           "zerolinecolor": "white",
           "zerolinewidth": 2
          }
         }
        },
        "title": {
         "font": {
          "size": 20
         },
         "text": "Duration comparision between the most popular genres"
        },
        "width": 1500,
        "xaxis": {
         "anchor": "y",
         "domain": [
          0,
          1
         ],
         "title": {
          "text": "Genre"
         }
        },
        "yaxis": {
         "anchor": "x",
         "domain": [
          0,
          1
         ],
         "title": {
          "text": "Duration (Minutes)"
         }
        }
       }
      }
     },
     "metadata": {},
     "output_type": "display_data"
    }
   ],
   "source": [
    "duration_popular = genres[[\"duration\", \"popularity\"]].copy()\n",
    "\n",
    "duration_popular = duration_popular.loc[duration_popular[\"popularity\"] > 20]\n",
    "\n",
    "fig = px.line(duration_popular, x=duration_popular.index, y=\"duration\", title=\"Duration comparision between the most popular genres\")\n",
    "\n",
    "fig.update_layout(\n",
    "    width=1500,                 \n",
    "    height=500,                 \n",
    "    xaxis_title=\"Genre\",         \n",
    "    yaxis_title=\"Duration (Minutes)\",     \n",
    "    title_font_size=20          \n",
    ")\n",
    "\n",
    "fig.show()\n"
   ]
  },
  {
   "cell_type": "code",
   "execution_count": 60,
   "id": "117c1749",
   "metadata": {},
   "outputs": [
    {
     "data": {
      "text/html": [
       "<div>\n",
       "<style scoped>\n",
       "    .dataframe tbody tr th:only-of-type {\n",
       "        vertical-align: middle;\n",
       "    }\n",
       "\n",
       "    .dataframe tbody tr th {\n",
       "        vertical-align: top;\n",
       "    }\n",
       "\n",
       "    .dataframe thead th {\n",
       "        text-align: right;\n",
       "    }\n",
       "</style>\n",
       "<table border=\"1\" class=\"dataframe\">\n",
       "  <thead>\n",
       "    <tr style=\"text-align: right;\">\n",
       "      <th></th>\n",
       "      <th>duration</th>\n",
       "      <th>popularity</th>\n",
       "    </tr>\n",
       "    <tr>\n",
       "      <th>genre</th>\n",
       "      <th></th>\n",
       "      <th></th>\n",
       "    </tr>\n",
       "  </thead>\n",
       "  <tbody>\n",
       "    <tr>\n",
       "      <th>ambient</th>\n",
       "      <td>4.976340</td>\n",
       "      <td>20.008743</td>\n",
       "    </tr>\n",
       "    <tr>\n",
       "      <th>sertanejo</th>\n",
       "      <td>3.370193</td>\n",
       "      <td>20.169703</td>\n",
       "    </tr>\n",
       "    <tr>\n",
       "      <th>hard-rock</th>\n",
       "      <td>4.273789</td>\n",
       "      <td>20.489493</td>\n",
       "    </tr>\n",
       "    <tr>\n",
       "      <th>blues</th>\n",
       "      <td>4.209673</td>\n",
       "      <td>21.620059</td>\n",
       "    </tr>\n",
       "    <tr>\n",
       "      <th>house</th>\n",
       "      <td>5.044098</td>\n",
       "      <td>23.080069</td>\n",
       "    </tr>\n",
       "    <tr>\n",
       "      <th>singer-songwriter</th>\n",
       "      <td>3.928388</td>\n",
       "      <td>23.421090</td>\n",
       "    </tr>\n",
       "    <tr>\n",
       "      <th>spanish</th>\n",
       "      <td>3.882333</td>\n",
       "      <td>23.603925</td>\n",
       "    </tr>\n",
       "    <tr>\n",
       "      <th>emo</th>\n",
       "      <td>3.364586</td>\n",
       "      <td>23.661981</td>\n",
       "    </tr>\n",
       "    <tr>\n",
       "      <th>edm</th>\n",
       "      <td>4.619953</td>\n",
       "      <td>23.889795</td>\n",
       "    </tr>\n",
       "    <tr>\n",
       "      <th>german</th>\n",
       "      <td>4.006972</td>\n",
       "      <td>24.267162</td>\n",
       "    </tr>\n",
       "  </tbody>\n",
       "</table>\n",
       "</div>"
      ],
      "text/plain": [
       "                   duration  popularity\n",
       "genre                                  \n",
       "ambient            4.976340   20.008743\n",
       "sertanejo          3.370193   20.169703\n",
       "hard-rock          4.273789   20.489493\n",
       "blues              4.209673   21.620059\n",
       "house              5.044098   23.080069\n",
       "singer-songwriter  3.928388   23.421090\n",
       "spanish            3.882333   23.603925\n",
       "emo                3.364586   23.661981\n",
       "edm                4.619953   23.889795\n",
       "german             4.006972   24.267162"
      ]
     },
     "execution_count": 60,
     "metadata": {},
     "output_type": "execute_result"
    }
   ],
   "source": [
    "duration_popular.sort_values(\"popularity\").head(10)"
   ]
  },
  {
   "cell_type": "markdown",
   "id": "6e97e3d2",
   "metadata": {},
   "source": [
    "#### **Reflection of 5.1: In this plot generated with plotly we can see that the mean duration of the most popular genres, notice that the genres with a higher duration are less popular than the most successful ones (e.g., Ambient and House), this confirms the conclusions we made in the section 3.4**"
   ]
  },
  {
   "cell_type": "markdown",
   "id": "26d42455",
   "metadata": {},
   "source": [
    "### **5.2 Pop Vs HipHop**"
   ]
  },
  {
   "cell_type": "code",
   "execution_count": 72,
   "id": "99f4119d",
   "metadata": {},
   "outputs": [
    {
     "data": {
      "image/png": "[encoded data removed]",
      "text/plain": [
       "<Figure size 1400x2500 with 10 Axes>"
      ]
     },
     "metadata": {},
     "output_type": "display_data"
    }
   ],
   "source": [
    "pop_vs_hiphop = genres.loc[(genres.index == \"pop\") | (genres.index == \"hip-hop\")]\n",
    "\n",
    "num_features = len(pop_vs_hiphop.columns)\n",
    "\n",
    "fig, axes = plt.subplots(nrows=5, ncols=2, figsize=(14, 25))\n",
    "\n",
    "for i, feature in enumerate(pop_vs_hiphop.columns):\n",
    "    row = i // 2\n",
    "    col = i % 2\n",
    "    sns.barplot(\n",
    "        data=pop_vs_hiphop.reset_index(), \n",
    "        x=\"genre\", \n",
    "        y=feature,\n",
    "        ax=axes[row, col]\n",
    "    )\n",
    "    axes[row, col].set_title(f\"{feature} per genre\")\n",
    "    axes[row, col].set_xlabel(\"Genre\")\n",
    "    axes[row, col].set_ylabel(feature)\n",
    "\n",
    "plt.tight_layout()\n",
    "plt.show()"
   ]
  },
  {
   "cell_type": "markdown",
   "id": "f8edc3ae",
   "metadata": {},
   "source": [
    "#### **Reflection of 5.2: These graphics represent the differences between Pop and Hip-Hop, I've wanted to compare them because they're the two most popular genres, the biggest gaps we can see is in the speechiness and instrumentalness features, we can see that, in average, hip-hop has up to 2.5 times more amount of words spoken than pop, that is compensed in the pop beats. In the rest of the feaures we can see similar values.**"
   ]
  },
  {
   "cell_type": "markdown",
   "id": "1c92f487",
   "metadata": {},
   "source": [
    "## **6. Final conclusions**"
   ]
  },
  {
   "cell_type": "markdown",
   "id": "c98ce424",
   "metadata": {},
   "source": [
    "### **This is my attempt to explain how music has evolved and what does it make it unique. I learned a lot of new terms and also I gained hands-on practice with new data analysis tools that I think they'll be useful when I start learning ML.**"
   ]
  }
 ],
 "metadata": {
  "kernelspec": {
   "display_name": "Python 3",
   "language": "python",
   "name": "python3"
  },
  "language_info": {
   "codemirror_mode": {
    "name": "ipython",
    "version": 3
   },
   "file_extension": ".py",
   "mimetype": "text/x-python",
   "name": "python",
   "nbconvert_exporter": "python",
   "pygments_lexer": "ipython3",
   "version": "3.11.9"
  }
 },
 "nbformat": 4,
 "nbformat_minor": 5
}
